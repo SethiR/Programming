{
 "cells": [
  {
   "cell_type": "markdown",
   "metadata": {},
   "source": [
    "# Coroutines\n",
    "\n",
    "The coroutines use the `yield` keyword as a way to stop and pass the execution to another routine. The coroutine is mostly like a generator with some differences. Check out [PEP342](https://www.python.org/dev/peps/pep-0342/) and PEP380."
   ]
  },
  {
   "cell_type": "markdown",
   "metadata": {},
   "source": [
    "__A simple coroutine__"
   ]
  },
  {
   "cell_type": "code",
   "execution_count": 33,
   "metadata": {},
   "outputs": [],
   "source": [
    "def example():\n",
    "    print('Starting')\n",
    "    x = yield\n",
    "    print('Continue coroutine + recieved value = ', x)"
   ]
  },
  {
   "cell_type": "code",
   "execution_count": 34,
   "metadata": {},
   "outputs": [
    {
     "data": {
      "text/plain": [
       "<generator object example at 0x00C63370>"
      ]
     },
     "execution_count": 34,
     "metadata": {},
     "output_type": "execute_result"
    }
   ],
   "source": [
    "e = example()\n",
    "e"
   ]
  },
  {
   "cell_type": "code",
   "execution_count": 35,
   "metadata": {},
   "outputs": [
    {
     "name": "stdout",
     "output_type": "stream",
     "text": [
      "Starting\n"
     ]
    }
   ],
   "source": [
    "next(e)"
   ]
  },
  {
   "cell_type": "code",
   "execution_count": 36,
   "metadata": {},
   "outputs": [
    {
     "name": "stdout",
     "output_type": "stream",
     "text": [
      "Continue coroutine + recieved value =  10\n"
     ]
    },
    {
     "ename": "StopIteration",
     "evalue": "",
     "output_type": "error",
     "traceback": [
      "\u001b[1;31m------------------------------------------------------------------\u001b[0m",
      "\u001b[1;31mStopIteration\u001b[0m                    Traceback (most recent call last)",
      "\u001b[1;32m<ipython-input-36-650dfb4d17c5>\u001b[0m in \u001b[0;36m<module>\u001b[1;34m\u001b[0m\n\u001b[1;32m----> 1\u001b[1;33m \u001b[0me\u001b[0m\u001b[1;33m.\u001b[0m\u001b[0msend\u001b[0m\u001b[1;33m(\u001b[0m\u001b[1;36m10\u001b[0m\u001b[1;33m)\u001b[0m\u001b[1;33m\u001b[0m\u001b[1;33m\u001b[0m\u001b[0m\n\u001b[0m",
      "\u001b[1;31mStopIteration\u001b[0m: "
     ]
    }
   ],
   "source": [
    "e.send(10)"
   ]
  },
  {
   "cell_type": "markdown",
   "metadata": {},
   "source": [
    "---"
   ]
  },
  {
   "cell_type": "markdown",
   "metadata": {},
   "source": [
    "__Using inspect module to check the state of coroutine__\n",
    "\n",
    "As you see above sometimes we use `next` and sometimes `send`, because before using `next` \"the generator\" had not started executing and `yield` was not waiting to receive any value using send."
   ]
  },
  {
   "cell_type": "code",
   "execution_count": 37,
   "metadata": {},
   "outputs": [
    {
     "data": {
      "text/plain": [
       "'GEN_CREATED'"
      ]
     },
     "execution_count": 37,
     "metadata": {},
     "output_type": "execute_result"
    }
   ],
   "source": [
    "import inspect\n",
    "\n",
    "e = example()\n",
    "\n",
    "inspect.getgeneratorstate(e)"
   ]
  },
  {
   "cell_type": "code",
   "execution_count": 38,
   "metadata": {},
   "outputs": [
    {
     "name": "stdout",
     "output_type": "stream",
     "text": [
      "Starting\n"
     ]
    },
    {
     "data": {
      "text/plain": [
       "'GEN_SUSPENDED'"
      ]
     },
     "execution_count": 38,
     "metadata": {},
     "output_type": "execute_result"
    }
   ],
   "source": [
    "next(e)\n",
    "inspect.getgeneratorstate(e)"
   ]
  },
  {
   "cell_type": "code",
   "execution_count": 39,
   "metadata": {},
   "outputs": [
    {
     "name": "stdout",
     "output_type": "stream",
     "text": [
      "Continue coroutine + recieved value =  10\n"
     ]
    },
    {
     "ename": "StopIteration",
     "evalue": "",
     "output_type": "error",
     "traceback": [
      "\u001b[1;31m------------------------------------------------------------------\u001b[0m",
      "\u001b[1;31mStopIteration\u001b[0m                    Traceback (most recent call last)",
      "\u001b[1;32m<ipython-input-39-650dfb4d17c5>\u001b[0m in \u001b[0;36m<module>\u001b[1;34m\u001b[0m\n\u001b[1;32m----> 1\u001b[1;33m \u001b[0me\u001b[0m\u001b[1;33m.\u001b[0m\u001b[0msend\u001b[0m\u001b[1;33m(\u001b[0m\u001b[1;36m10\u001b[0m\u001b[1;33m)\u001b[0m\u001b[1;33m\u001b[0m\u001b[1;33m\u001b[0m\u001b[0m\n\u001b[0m",
      "\u001b[1;31mStopIteration\u001b[0m: "
     ]
    }
   ],
   "source": [
    "e.send(10)"
   ]
  },
  {
   "cell_type": "code",
   "execution_count": 40,
   "metadata": {},
   "outputs": [
    {
     "data": {
      "text/plain": [
       "'GEN_CLOSED'"
      ]
     },
     "execution_count": 40,
     "metadata": {},
     "output_type": "execute_result"
    }
   ],
   "source": [
    "inspect.getgeneratorstate(e)"
   ]
  },
  {
   "cell_type": "markdown",
   "metadata": {},
   "source": [
    "---\n",
    "\n",
    "__Example 2__\n",
    "\n",
    "An infinitly running co-routine averager which computes the average. The coroutine will terminate when `.close()` is called on it.\n",
    "\n",
    "The advantage of using a coroutine is that sum and count can be simple local variables: no instance attributes or closures are needed to keep the context between calls."
   ]
  },
  {
   "cell_type": "code",
   "execution_count": 13,
   "metadata": {},
   "outputs": [],
   "source": [
    "def coroutine_averager():\n",
    "    sum = 0\n",
    "    count = 0\n",
    "    while True:\n",
    "        num = yield  # instead of print you can do \"num = yield average\" and skip the print statement at the end.\n",
    "        sum += num\n",
    "        count +=1 \n",
    "        print(f\"Average is {sum/count}\")"
   ]
  },
  {
   "cell_type": "code",
   "execution_count": 14,
   "metadata": {},
   "outputs": [],
   "source": [
    "a = coroutine_averager()"
   ]
  },
  {
   "cell_type": "code",
   "execution_count": 15,
   "metadata": {},
   "outputs": [],
   "source": [
    "next(a)"
   ]
  },
  {
   "cell_type": "code",
   "execution_count": 16,
   "metadata": {},
   "outputs": [
    {
     "name": "stdout",
     "output_type": "stream",
     "text": [
      "Average is 10.0\n"
     ]
    }
   ],
   "source": [
    "a.send(10)"
   ]
  },
  {
   "cell_type": "code",
   "execution_count": 17,
   "metadata": {},
   "outputs": [
    {
     "name": "stdout",
     "output_type": "stream",
     "text": [
      "Average is 15.0\n"
     ]
    }
   ],
   "source": [
    "a.send(20)"
   ]
  },
  {
   "cell_type": "markdown",
   "metadata": {},
   "source": [
    "---\n",
    "__Priming by using decorator__\n",
    "\n",
    "As you see its easy to forget doing `next(coroutine)` before `send` thus you can use a decorator to do that for you. Example shown below: - "
   ]
  },
  {
   "cell_type": "code",
   "execution_count": 37,
   "metadata": {},
   "outputs": [],
   "source": [
    "from functools import wraps\n",
    "\n",
    "def coroutine(func):\n",
    "    \"\"\"\n",
    "    This decorator primes the couroutine function by advancing it to the first yield\n",
    "    \"\"\"\n",
    "    @wraps(func)\n",
    "    def wrapper(*args, **kwargs):\n",
    "        gen = func(*args, **kwargs)\n",
    "        next(gen)\n",
    "        return gen\n",
    "    return wrapper"
   ]
  },
  {
   "cell_type": "code",
   "execution_count": 38,
   "metadata": {},
   "outputs": [],
   "source": [
    "@coroutine\n",
    "def coroutine_averager():\n",
    "    sum = 0\n",
    "    count = 0\n",
    "    while True:\n",
    "        num = yield  # instead of print you can do \"num = yield average\" and skip the print statement at the end.\n",
    "        sum += num\n",
    "        count +=1 \n",
    "        print(f\"Average is {sum/count}\")"
   ]
  },
  {
   "cell_type": "code",
   "execution_count": 39,
   "metadata": {},
   "outputs": [],
   "source": [
    "a = coroutine_averager()"
   ]
  },
  {
   "cell_type": "code",
   "execution_count": 40,
   "metadata": {},
   "outputs": [
    {
     "name": "stdout",
     "output_type": "stream",
     "text": [
      "Average is 10.0\n"
     ]
    }
   ],
   "source": [
    "a.send(10)"
   ]
  },
  {
   "cell_type": "code",
   "execution_count": 41,
   "metadata": {},
   "outputs": [
    {
     "name": "stdout",
     "output_type": "stream",
     "text": [
      "Average is 12.5\n"
     ]
    }
   ],
   "source": [
    "a.send(15)"
   ]
  },
  {
   "cell_type": "markdown",
   "metadata": {},
   "source": [
    "---\n",
    "### Termination and Exception Handling\n",
    "\n",
    "An unhandled exception within a coroutine propagates to the caller of the next or send that triggered it.\n",
    "\n",
    "There are 2 ways to terminate a co-routine.\n",
    "\n",
    "- Send something to the coroutine which it cannot cater to thus raising excpetion and terminating it. e.g. `None`\n",
    "    - Also you can send `None` and when you check for `None` stop the while loop and return the value from the coroutine using return statement. Check example in _fluent python_\n",
    "- Call the `.close()`\n",
    "\n",
    "You can also send exceptions into the coroutine using `generator.throw()` - Causes the yield expression where the generator was paused to raise the exception given. Check further details in _Fluent Python_ page 472/473 generator section or [standard documentation](https://docs.python.org/3/reference/expressions.html#generator-iterator-methods).\n",
    "\n",
    "Example below shows how you can handle exceptions in the coroutine. If you do handle the exception it will keep on running. With the `finally` you can do some teardown."
   ]
  },
  {
   "cell_type": "code",
   "execution_count": 42,
   "metadata": {},
   "outputs": [],
   "source": [
    "class SomeException(Exception):\n",
    "    pass\n",
    "\n",
    "def demo_coroutine():\n",
    "    print(\"Coroutine started\")\n",
    "    try:\n",
    "        while True:\n",
    "            try:\n",
    "                x = yield\n",
    "            except SomeException:\n",
    "                print(\"Exception recived but still continuing\")\n",
    "            else:\n",
    "                print(\"Received x\")  # or you can also put this in the try block\n",
    "    finally:\n",
    "        print(\"Coroutine ended\")"
   ]
  },
  {
   "cell_type": "markdown",
   "metadata": {},
   "source": [
    "---\n",
    "__Returning values__"
   ]
  },
  {
   "cell_type": "code",
   "execution_count": 53,
   "metadata": {},
   "outputs": [],
   "source": [
    "def averager():\n",
    "    total = 0.0\n",
    "    count = 0\n",
    "    average = None\n",
    "    while True:\n",
    "        term = yield\n",
    "        if term is None:\n",
    "            break\n",
    "        total += term\n",
    "        count += 1\n",
    "        average = total/count\n",
    "    return (count, average)"
   ]
  },
  {
   "cell_type": "code",
   "execution_count": 54,
   "metadata": {},
   "outputs": [],
   "source": [
    "a = averager()\n",
    "next(a)\n",
    "a.send(10)"
   ]
  },
  {
   "cell_type": "code",
   "execution_count": 55,
   "metadata": {},
   "outputs": [],
   "source": [
    "a.send(20)"
   ]
  },
  {
   "cell_type": "code",
   "execution_count": 56,
   "metadata": {},
   "outputs": [
    {
     "ename": "StopIteration",
     "evalue": "(2, 15.0)",
     "output_type": "error",
     "traceback": [
      "\u001b[1;31m---------------------------------------------------------------------------\u001b[0m",
      "\u001b[1;31mStopIteration\u001b[0m                             Traceback (most recent call last)",
      "\u001b[1;32m<ipython-input-56-45230a808665>\u001b[0m in \u001b[0;36m<module>\u001b[1;34m\u001b[0m\n\u001b[1;32m----> 1\u001b[1;33m \u001b[0ma\u001b[0m\u001b[1;33m.\u001b[0m\u001b[0msend\u001b[0m\u001b[1;33m(\u001b[0m\u001b[1;32mNone\u001b[0m\u001b[1;33m)\u001b[0m \u001b[1;31m# you do get the return but cannot stop the \"StopIteration\" exception.\u001b[0m\u001b[1;33m\u001b[0m\u001b[1;33m\u001b[0m\u001b[0m\n\u001b[0m",
      "\u001b[1;31mStopIteration\u001b[0m: (2, 15.0)"
     ]
    }
   ],
   "source": [
    "a.send(None) # you do get the return but cannot stop the \"StopIteration\" exception."
   ]
  },
  {
   "cell_type": "markdown",
   "metadata": {},
   "source": [
    "_Better way of handling StopIteration_  --> To be honest this seems like a hack to me as to get results from the generator and the book _fluent python_ agrees that this is somewhat of a hack. Much better to use `yeild from` in these scenarios because it tackles the StopIteration exception automatically which is transparent to the user."
   ]
  },
  {
   "cell_type": "code",
   "execution_count": 57,
   "metadata": {},
   "outputs": [],
   "source": [
    "# Better way\n",
    "\n",
    "a = averager()\n",
    "next(a)\n",
    "a.send(10)\n",
    "a.send(20)"
   ]
  },
  {
   "cell_type": "code",
   "execution_count": 59,
   "metadata": {},
   "outputs": [
    {
     "name": "stdout",
     "output_type": "stream",
     "text": [
      "(2, 15.0)\n"
     ]
    }
   ],
   "source": [
    "try:\n",
    "    a.send(None)\n",
    "except StopIteration as e:\n",
    "        result = e.value\n",
    "finally:\n",
    "    print(result)"
   ]
  },
  {
   "cell_type": "markdown",
   "metadata": {},
   "source": [
    "---\n",
    "### Yield From"
   ]
  },
  {
   "cell_type": "markdown",
   "metadata": {},
   "source": [
    "__Concept__\n",
    "\n",
    "The main feature of `yield from` is to open a bidirectional channel from the outermost caller to the innermost subgenerator, so that values can be sent and yielded back and forth directly from them, and exceptions can be thrown all the way in without adding a lot of exception handling boilerplate code in the intermediate coroutines. This is what enables coroutine delegation in a way that was not possible before. \n",
    "\n",
    "The below should give you some idea about the construct...\n",
    "\n",
    "    (caller)\n",
    "    main func     <-->     delegating generator     <-->      subgenerator\n",
    "    \n",
    "While the delegating generator is suspended at `yield from` the main func can send data directly to subgenerator which yields data back to the main function. The delegating generator resumes when the subgenerator returns and the interpreter raises StopIteration with the returned value attached."
   ]
  },
  {
   "cell_type": "code",
   "execution_count": 68,
   "metadata": {},
   "outputs": [
    {
     "name": "stdout",
     "output_type": "stream",
     "text": [
      " 9 boys  averaging 40.42kg\n",
      " 9 boys  averaging 1.39m\n",
      "10 girls averaging 42.04kg\n",
      "10 girls averaging 1.43m\n"
     ]
    }
   ],
   "source": [
    "\"\"\"\n",
    "Example from fluent python\n",
    "\"\"\"\n",
    "\n",
    "from collections import namedtuple\n",
    "\n",
    "Result = namedtuple('Result', 'count average')\n",
    "\n",
    "# subgenerator\n",
    "def averager():\n",
    "    total = 0\n",
    "    count = 0\n",
    "    average = None\n",
    "    while True:\n",
    "        num = yield\n",
    "        if num is None:  # to break the infinite for loop\n",
    "            break\n",
    "        total += num\n",
    "        count += 1\n",
    "        average = total / count\n",
    "    return Result(count, average)\n",
    "\n",
    "\n",
    "# delegating generator\n",
    "def grouper(results, key):\n",
    "    while True:\n",
    "        results[key] = yield from averager()\n",
    "\n",
    "\n",
    "# main function\n",
    "def main(data):\n",
    "    results = {}\n",
    "    for key, values in data.items():\n",
    "        group = grouper(results, key)\n",
    "        next(group)\n",
    "        for value in values:\n",
    "            group.send(value)\n",
    "        group.send(None) # important!\n",
    "    # print(results) # uncomment to debug\n",
    "    report(results)\n",
    "    \n",
    "    \n",
    "def report(results):\n",
    "    for key, result in sorted(results.items()):\n",
    "        group, unit = key.split(';')\n",
    "        print('{:2} {:5} averaging {:.2f}{}'.format(\n",
    "            result.count, group, result.average, unit))\n",
    "        \n",
    "        \n",
    "        \n",
    "data = {\n",
    "'girls;kg':\n",
    "[40.9, 38.5, 44.3, 42.2, 45.2, 41.7, 44.5, 38.0, 40.6, 44.5],\n",
    "'girls;m':\n",
    "[1.6, 1.51, 1.4, 1.3, 1.41, 1.39, 1.33, 1.46, 1.45, 1.43],\n",
    "'boys;kg':\n",
    "[39.0, 40.8, 43.2, 40.8, 43.1, 38.6, 41.4, 40.6, 36.3],\n",
    "'boys;m':\n",
    "[1.38, 1.5, 1.32, 1.25, 1.37, 1.48, 1.25, 1.49, 1.46],\n",
    "}\n",
    "\n",
    "main(data)"
   ]
  }
 ],
 "metadata": {
  "kernelspec": {
   "display_name": "Python 3",
   "language": "python",
   "name": "python3"
  },
  "language_info": {
   "codemirror_mode": {
    "name": "ipython",
    "version": 3
   },
   "file_extension": ".py",
   "mimetype": "text/x-python",
   "name": "python",
   "nbconvert_exporter": "python",
   "pygments_lexer": "ipython3",
   "version": "3.7.4"
  }
 },
 "nbformat": 4,
 "nbformat_minor": 4
}
