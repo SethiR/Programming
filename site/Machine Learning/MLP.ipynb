{
 "cells": [
  {
   "cell_type": "markdown",
   "metadata": {},
   "source": [
    "# Classification (MLP)"
   ]
  },
  {
   "cell_type": "code",
   "execution_count": 1,
   "metadata": {},
   "outputs": [],
   "source": [
    "import tensorflow as tf\n",
    "import numpy as np\n",
    "from tensorflow import keras"
   ]
  },
  {
   "cell_type": "code",
   "execution_count": 2,
   "metadata": {},
   "outputs": [],
   "source": [
    "with np.load('data/mnist_fashion.npz') as data:\n",
    "    X = data['x_train']\n",
    "    Y = data['y_train']\n",
    "    x_test = data['x_test']\n",
    "    y_test = data['y_test']"
   ]
  },
  {
   "cell_type": "markdown",
   "metadata": {},
   "source": [
    "---\n",
    "\n",
    "split into validation"
   ]
  },
  {
   "cell_type": "code",
   "execution_count": 3,
   "metadata": {},
   "outputs": [],
   "source": [
    "x_valid, x_train = X[:5000]/255.0 , X[5000:]/255.0\n",
    "y_valid, y_train = Y[:5000] , Y[5000:]"
   ]
  },
  {
   "cell_type": "code",
   "execution_count": 5,
   "metadata": {},
   "outputs": [
    {
     "data": {
      "text/plain": [
       "((5000, 28, 28), (55000, 28, 28))"
      ]
     },
     "execution_count": 5,
     "metadata": {},
     "output_type": "execute_result"
    }
   ],
   "source": [
    "x_valid.shape, x_train.shape"
   ]
  },
  {
   "cell_type": "code",
   "execution_count": 6,
   "metadata": {},
   "outputs": [],
   "source": [
    "class_names = [\"T-shirt/top\", \"Trouser\", \"Pullover\", \"Dress\", \"Coat\",\n",
    "                \"Sandal\", \"Shirt\", \"Sneaker\", \"Bag\", \"Ankle boot\"]"
   ]
  },
  {
   "cell_type": "markdown",
   "metadata": {},
   "source": [
    "---"
   ]
  },
  {
   "cell_type": "code",
   "execution_count": 9,
   "metadata": {},
   "outputs": [],
   "source": [
    "model = keras.models.Sequential()\n",
    "model.add(keras.layers.Flatten(input_shape = [28,28]))\n",
    "model.add(keras.layers.Dense(300, activation = 'relu'))\n",
    "model.add(keras.layers.Dense(100, activation=\"relu\"))\n",
    "model.add(keras.layers.Dense(10, activation=\"softmax\"))"
   ]
  },
  {
   "cell_type": "code",
   "execution_count": 10,
   "metadata": {},
   "outputs": [
    {
     "name": "stdout",
     "output_type": "stream",
     "text": [
      "Model: \"sequential\"\n",
      "_________________________________________________________________\n",
      "Layer (type)                 Output Shape              Param #   \n",
      "=================================================================\n",
      "flatten (Flatten)            (None, 784)               0         \n",
      "_________________________________________________________________\n",
      "dense (Dense)                (None, 300)               235500    \n",
      "_________________________________________________________________\n",
      "dense_1 (Dense)              (None, 100)               30100     \n",
      "_________________________________________________________________\n",
      "dense_2 (Dense)              (None, 10)                1010      \n",
      "=================================================================\n",
      "Total params: 266,610\n",
      "Trainable params: 266,610\n",
      "Non-trainable params: 0\n",
      "_________________________________________________________________\n"
     ]
    }
   ],
   "source": [
    "model.summary()"
   ]
  },
  {
   "cell_type": "code",
   "execution_count": 9,
   "metadata": {},
   "outputs": [],
   "source": [
    "# from tensorflow.keras.utils import plot_model\n",
    "# plot_model(model)"
   ]
  },
  {
   "cell_type": "code",
   "execution_count": 11,
   "metadata": {},
   "outputs": [
    {
     "data": {
      "text/plain": [
       "[<tensorflow.python.keras.layers.core.Flatten at 0x265a1a7adc8>,\n",
       " <tensorflow.python.keras.layers.core.Dense at 0x2658710e248>,\n",
       " <tensorflow.python.keras.layers.core.Dense at 0x265a1a9b648>,\n",
       " <tensorflow.python.keras.layers.core.Dense at 0x265a1c04288>]"
      ]
     },
     "execution_count": 11,
     "metadata": {},
     "output_type": "execute_result"
    }
   ],
   "source": [
    "model.layers"
   ]
  },
  {
   "cell_type": "code",
   "execution_count": 13,
   "metadata": {},
   "outputs": [],
   "source": [
    "hidden1 = model.layers[1]"
   ]
  },
  {
   "cell_type": "code",
   "execution_count": 14,
   "metadata": {},
   "outputs": [],
   "source": [
    "weights, biases = hidden1.get_weights()"
   ]
  },
  {
   "cell_type": "code",
   "execution_count": 15,
   "metadata": {},
   "outputs": [
    {
     "data": {
      "text/plain": [
       "(array([[-0.06775083,  0.00732357, -0.06839938, ..., -0.02519577,\n",
       "          0.06660795,  0.02657106],\n",
       "        [ 0.0170395 , -0.01506779, -0.05742882, ...,  0.06269816,\n",
       "          0.02044947, -0.00349396],\n",
       "        [-0.0743892 ,  0.01395481,  0.02086151, ..., -0.03174413,\n",
       "          0.02649432, -0.00734895],\n",
       "        ...,\n",
       "        [-0.07268283,  0.00911914,  0.07435559, ..., -0.03055727,\n",
       "          0.03595506,  0.00450066],\n",
       "        [ 0.05180532, -0.04218078, -0.05770289, ..., -0.06788859,\n",
       "          0.02478909, -0.04731768],\n",
       "        [-0.0195814 , -0.04614698, -0.00844614, ...,  0.03047112,\n",
       "          0.06613904, -0.03331549]], dtype=float32),\n",
       " array([0., 0., 0., 0., 0., 0., 0., 0., 0., 0., 0., 0., 0., 0., 0., 0., 0.,\n",
       "        0., 0., 0., 0., 0., 0., 0., 0., 0., 0., 0., 0., 0., 0., 0., 0., 0.,\n",
       "        0., 0., 0., 0., 0., 0., 0., 0., 0., 0., 0., 0., 0., 0., 0., 0., 0.,\n",
       "        0., 0., 0., 0., 0., 0., 0., 0., 0., 0., 0., 0., 0., 0., 0., 0., 0.,\n",
       "        0., 0., 0., 0., 0., 0., 0., 0., 0., 0., 0., 0., 0., 0., 0., 0., 0.,\n",
       "        0., 0., 0., 0., 0., 0., 0., 0., 0., 0., 0., 0., 0., 0., 0., 0., 0.,\n",
       "        0., 0., 0., 0., 0., 0., 0., 0., 0., 0., 0., 0., 0., 0., 0., 0., 0.,\n",
       "        0., 0., 0., 0., 0., 0., 0., 0., 0., 0., 0., 0., 0., 0., 0., 0., 0.,\n",
       "        0., 0., 0., 0., 0., 0., 0., 0., 0., 0., 0., 0., 0., 0., 0., 0., 0.,\n",
       "        0., 0., 0., 0., 0., 0., 0., 0., 0., 0., 0., 0., 0., 0., 0., 0., 0.,\n",
       "        0., 0., 0., 0., 0., 0., 0., 0., 0., 0., 0., 0., 0., 0., 0., 0., 0.,\n",
       "        0., 0., 0., 0., 0., 0., 0., 0., 0., 0., 0., 0., 0., 0., 0., 0., 0.,\n",
       "        0., 0., 0., 0., 0., 0., 0., 0., 0., 0., 0., 0., 0., 0., 0., 0., 0.,\n",
       "        0., 0., 0., 0., 0., 0., 0., 0., 0., 0., 0., 0., 0., 0., 0., 0., 0.,\n",
       "        0., 0., 0., 0., 0., 0., 0., 0., 0., 0., 0., 0., 0., 0., 0., 0., 0.,\n",
       "        0., 0., 0., 0., 0., 0., 0., 0., 0., 0., 0., 0., 0., 0., 0., 0., 0.,\n",
       "        0., 0., 0., 0., 0., 0., 0., 0., 0., 0., 0., 0., 0., 0., 0., 0., 0.,\n",
       "        0., 0., 0., 0., 0., 0., 0., 0., 0., 0., 0.], dtype=float32))"
      ]
     },
     "execution_count": 15,
     "metadata": {},
     "output_type": "execute_result"
    }
   ],
   "source": [
    "weights, biases"
   ]
  },
  {
   "cell_type": "code",
   "execution_count": 16,
   "metadata": {},
   "outputs": [],
   "source": [
    "model.compile(loss=\"sparse_categorical_crossentropy\", optimizer = \"sgd\", metrics=[\"accuracy\"])"
   ]
  },
  {
   "cell_type": "code",
   "execution_count": 17,
   "metadata": {},
   "outputs": [
    {
     "name": "stdout",
     "output_type": "stream",
     "text": [
      "Train on 55000 samples, validate on 5000 samples\n",
      "Epoch 1/30\n",
      "55000/55000 [==============================] - 4s 78us/sample - loss: 0.5925 - accuracy: 0.8469 - val_loss: 0.3013 - val_accuracy: 0.9156\n",
      "Epoch 2/30\n",
      "55000/55000 [==============================] - 4s 70us/sample - loss: 0.2876 - accuracy: 0.9170 - val_loss: 0.2396 - val_accuracy: 0.9296\n",
      "Epoch 3/30\n",
      "55000/55000 [==============================] - 4s 69us/sample - loss: 0.2363 - accuracy: 0.9323 - val_loss: 0.2065 - val_accuracy: 0.9422\n",
      "Epoch 4/30\n",
      "55000/55000 [==============================] - 4s 82us/sample - loss: 0.2015 - accuracy: 0.9426 - val_loss: 0.1803 - val_accuracy: 0.9486\n",
      "Epoch 5/30\n",
      "55000/55000 [==============================] - 4s 71us/sample - loss: 0.1759 - accuracy: 0.9497 - val_loss: 0.1604 - val_accuracy: 0.9540\n",
      "Epoch 6/30\n",
      "55000/55000 [==============================] - 4s 81us/sample - loss: 0.1555 - accuracy: 0.9556 - val_loss: 0.1443 - val_accuracy: 0.9586\n",
      "Epoch 7/30\n",
      "55000/55000 [==============================] - 4s 72us/sample - loss: 0.1390 - accuracy: 0.9603 - val_loss: 0.1348 - val_accuracy: 0.9634\n",
      "Epoch 8/30\n",
      "55000/55000 [==============================] - 5s 95us/sample - loss: 0.1252 - accuracy: 0.9648 - val_loss: 0.1232 - val_accuracy: 0.9658\n",
      "Epoch 9/30\n",
      "55000/55000 [==============================] - 4s 76us/sample - loss: 0.1140 - accuracy: 0.9679 - val_loss: 0.1148 - val_accuracy: 0.9682\n",
      "Epoch 10/30\n",
      "55000/55000 [==============================] - 4s 70us/sample - loss: 0.1043 - accuracy: 0.9708 - val_loss: 0.1087 - val_accuracy: 0.9698\n",
      "Epoch 11/30\n",
      "55000/55000 [==============================] - 4s 71us/sample - loss: 0.0957 - accuracy: 0.9731 - val_loss: 0.1055 - val_accuracy: 0.9694\n",
      "Epoch 12/30\n",
      "55000/55000 [==============================] - 4s 68us/sample - loss: 0.0884 - accuracy: 0.9750 - val_loss: 0.1026 - val_accuracy: 0.9708\n",
      "Epoch 13/30\n",
      "55000/55000 [==============================] - 5s 88us/sample - loss: 0.0819 - accuracy: 0.9774 - val_loss: 0.0943 - val_accuracy: 0.9726\n",
      "Epoch 14/30\n",
      "55000/55000 [==============================] - 5s 86us/sample - loss: 0.0758 - accuracy: 0.9794 - val_loss: 0.0897 - val_accuracy: 0.9740\n",
      "Epoch 15/30\n",
      "55000/55000 [==============================] - 4s 79us/sample - loss: 0.0706 - accuracy: 0.9804 - val_loss: 0.0883 - val_accuracy: 0.9750\n",
      "Epoch 16/30\n",
      "55000/55000 [==============================] - 4s 73us/sample - loss: 0.0657 - accuracy: 0.9820 - val_loss: 0.0849 - val_accuracy: 0.9764\n",
      "Epoch 17/30\n",
      "55000/55000 [==============================] - 4s 78us/sample - loss: 0.0611 - accuracy: 0.9833 - val_loss: 0.0822 - val_accuracy: 0.9764\n",
      "Epoch 18/30\n",
      "55000/55000 [==============================] - 4s 71us/sample - loss: 0.0573 - accuracy: 0.9849 - val_loss: 0.0792 - val_accuracy: 0.9774\n",
      "Epoch 19/30\n",
      "55000/55000 [==============================] - 4s 73us/sample - loss: 0.0536 - accuracy: 0.9859 - val_loss: 0.0798 - val_accuracy: 0.9774\n",
      "Epoch 20/30\n",
      "55000/55000 [==============================] - 4s 73us/sample - loss: 0.0502 - accuracy: 0.9869 - val_loss: 0.0769 - val_accuracy: 0.9766\n",
      "Epoch 21/30\n",
      "55000/55000 [==============================] - 4s 72us/sample - loss: 0.0474 - accuracy: 0.9876 - val_loss: 0.0755 - val_accuracy: 0.9774\n",
      "Epoch 22/30\n",
      "55000/55000 [==============================] - 4s 81us/sample - loss: 0.0445 - accuracy: 0.9887 - val_loss: 0.0724 - val_accuracy: 0.9786\n",
      "Epoch 23/30\n",
      "55000/55000 [==============================] - 5s 87us/sample - loss: 0.0418 - accuracy: 0.9889 - val_loss: 0.0723 - val_accuracy: 0.9774\n",
      "Epoch 24/30\n",
      "55000/55000 [==============================] - 4s 72us/sample - loss: 0.0390 - accuracy: 0.9905 - val_loss: 0.0718 - val_accuracy: 0.9782\n",
      "Epoch 25/30\n",
      "55000/55000 [==============================] - 4s 67us/sample - loss: 0.0368 - accuracy: 0.9907 - val_loss: 0.0708 - val_accuracy: 0.9784\n",
      "Epoch 26/30\n",
      "55000/55000 [==============================] - 4s 73us/sample - loss: 0.0347 - accuracy: 0.9912 - val_loss: 0.0697 - val_accuracy: 0.9796\n",
      "Epoch 27/30\n",
      "55000/55000 [==============================] - 4s 79us/sample - loss: 0.0327 - accuracy: 0.9919 - val_loss: 0.0695 - val_accuracy: 0.9810\n",
      "Epoch 28/30\n",
      "55000/55000 [==============================] - 4s 69us/sample - loss: 0.0308 - accuracy: 0.9926 - val_loss: 0.0679 - val_accuracy: 0.9800\n",
      "Epoch 29/30\n",
      "55000/55000 [==============================] - 4s 78us/sample - loss: 0.0291 - accuracy: 0.9932 - val_loss: 0.0674 - val_accuracy: 0.9804\n",
      "Epoch 30/30\n",
      "55000/55000 [==============================] - 4s 71us/sample - loss: 0.0272 - accuracy: 0.9940 - val_loss: 0.0664 - val_accuracy: 0.9792\n"
     ]
    }
   ],
   "source": [
    "history = model.fit(x_train, y_train, epochs=30, validation_data=(x_valid, y_valid))"
   ]
  },
  {
   "cell_type": "code",
   "execution_count": 18,
   "metadata": {},
   "outputs": [
    {
     "data": {
      "image/png": "[encoded data removed]",
      "text/plain": [
       "<Figure size 576x360 with 1 Axes>"
      ]
     },
     "metadata": {
      "needs_background": "light"
     },
     "output_type": "display_data"
    }
   ],
   "source": [
    "import pandas as pd\n",
    "import matplotlib.pyplot as plt\n",
    "\n",
    "pd.DataFrame(history.history).plot(figsize=(8, 5))\n",
    "plt.grid(True)"
   ]
  },
  {
   "cell_type": "code",
   "execution_count": 23,
   "metadata": {},
   "outputs": [
    {
     "name": "stdout",
     "output_type": "stream",
     "text": [
      "10000/10000 [==============================] - 0s 32us/sample - loss: 12.7360 - accuracy: 0.9752\n"
     ]
    },
    {
     "data": {
      "text/plain": [
       "[12.735998806811027, 0.9752]"
      ]
     },
     "execution_count": 23,
     "metadata": {},
     "output_type": "execute_result"
    }
   ],
   "source": [
    "model.evaluate(x_test, y_test)"
   ]
  },
  {
   "cell_type": "code",
   "execution_count": 46,
   "metadata": {},
   "outputs": [
    {
     "data": {
      "text/plain": [
       "array([[0., 0., 0., 0., 0., 0., 0., 1., 0., 0.]], dtype=float32)"
      ]
     },
     "execution_count": 46,
     "metadata": {},
     "output_type": "execute_result"
    }
   ],
   "source": [
    "model.predict(x_test[:1])"
   ]
  },
  {
   "cell_type": "code",
   "execution_count": 45,
   "metadata": {},
   "outputs": [
    {
     "data": {
      "text/plain": [
       "array([7], dtype=uint8)"
      ]
     },
     "execution_count": 45,
     "metadata": {},
     "output_type": "execute_result"
    }
   ],
   "source": [
    " y_test[:1]"
   ]
  },
  {
   "cell_type": "markdown",
   "metadata": {},
   "source": [
    "---\n",
    "\n",
    "# Regression (MLP)\n",
    "\n",
    "## Having problems with regression --> Try this link https://www.tensorflow.org/tutorials/keras/regression"
   ]
  },
  {
   "cell_type": "code",
   "execution_count": 163,
   "metadata": {},
   "outputs": [],
   "source": [
    "import numpy as np\n",
    "import pandas as pd\n",
    "from sklearn.model_selection import train_test_split\n",
    "from sklearn.preprocessing import StandardScaler, MinMaxScaler\n",
    "import tensorflow as tf\n",
    "from tensorflow import keras"
   ]
  },
  {
   "cell_type": "code",
   "execution_count": 150,
   "metadata": {},
   "outputs": [],
   "source": [
    "df = pd.read_csv(\"data/housing.csv\")\n",
    "df.dropna(inplace=True)"
   ]
  },
  {
   "cell_type": "code",
   "execution_count": 151,
   "metadata": {},
   "outputs": [],
   "source": [
    "X = df.drop(['median_house_value','ocean_proximity'], axis=1)\n",
    "Y = df[['median_house_value']]"
   ]
  },
  {
   "cell_type": "code",
   "execution_count": 164,
   "metadata": {},
   "outputs": [],
   "source": [
    "std_scaler = MinMaxScaler()\n",
    "X, Y = std_scaler.fit_transform(X), std_scaler.fit_transform(Y)"
   ]
  },
  {
   "cell_type": "code",
   "execution_count": 165,
   "metadata": {},
   "outputs": [],
   "source": [
    "_, x_test = train_test_split(X, test_size=.2)\n",
    "x_train, x_valid = train_test_split(_, test_size=.2)\n",
    "\n",
    "_, y_test = train_test_split(Y, test_size=.2)\n",
    "y_train, y_valid = train_test_split(_, test_size=.2)"
   ]
  },
  {
   "cell_type": "code",
   "execution_count": 168,
   "metadata": {},
   "outputs": [],
   "source": [
    "model = keras.models.Sequential([\n",
    "    keras.layers.Dense(30, input_shape=x_train.shape[1:]),\n",
    "    keras.layers.Dense(20, activation=\"relu\"),\n",
    "    keras.layers.Dense(1)\n",
    "])\n",
    "model.compile(loss=\"mean_squared_error\", optimizer=\"sgd\")"
   ]
  },
  {
   "cell_type": "code",
   "execution_count": 169,
   "metadata": {},
   "outputs": [
    {
     "name": "stdout",
     "output_type": "stream",
     "text": [
      "Train on 13076 samples, validate on 3270 samples\n",
      "Epoch 1/20\n",
      "13076/13076 [==============================] - 1s 59us/sample - loss: 0.0634 - val_loss: 0.0580\n",
      "Epoch 2/20\n",
      "13076/13076 [==============================] - 1s 48us/sample - loss: 0.0577 - val_loss: 0.0577\n",
      "Epoch 3/20\n",
      "13076/13076 [==============================] - 1s 54us/sample - loss: 0.0576 - val_loss: 0.0577\n",
      "Epoch 4/20\n",
      "13076/13076 [==============================] - 1s 49us/sample - loss: 0.0574 - val_loss: 0.0573\n",
      "Epoch 5/20\n",
      "13076/13076 [==============================] - 1s 52us/sample - loss: 0.0573 - val_loss: 0.0572\n",
      "Epoch 6/20\n",
      "13076/13076 [==============================] - 1s 44us/sample - loss: 0.0573 - val_loss: 0.0574\n",
      "Epoch 7/20\n",
      "13076/13076 [==============================] - 1s 40us/sample - loss: 0.0572 - val_loss: 0.0573\n",
      "Epoch 8/20\n",
      "13076/13076 [==============================] - 1s 41us/sample - loss: 0.0572 - val_loss: 0.0571\n",
      "Epoch 9/20\n",
      "13076/13076 [==============================] - 1s 41us/sample - loss: 0.0571 - val_loss: 0.0570\n",
      "Epoch 10/20\n",
      "13076/13076 [==============================] - 1s 44us/sample - loss: 0.0571 - val_loss: 0.0570\n",
      "Epoch 11/20\n",
      "13076/13076 [==============================] - 1s 42us/sample - loss: 0.0571 - val_loss: 0.0570\n",
      "Epoch 12/20\n",
      "13076/13076 [==============================] - 1s 43us/sample - loss: 0.0571 - val_loss: 0.0569\n",
      "Epoch 13/20\n",
      "13076/13076 [==============================] - 1s 51us/sample - loss: 0.0570 - val_loss: 0.0574\n",
      "Epoch 14/20\n",
      "13076/13076 [==============================] - 1s 48us/sample - loss: 0.0571 - val_loss: 0.0572\n",
      "Epoch 15/20\n",
      "13076/13076 [==============================] - 1s 42us/sample - loss: 0.0570 - val_loss: 0.0569\n",
      "Epoch 16/20\n",
      "13076/13076 [==============================] - 1s 42us/sample - loss: 0.0570 - val_loss: 0.0572\n",
      "Epoch 17/20\n",
      "13076/13076 [==============================] - 1s 45us/sample - loss: 0.0571 - val_loss: 0.0569\n",
      "Epoch 18/20\n",
      "13076/13076 [==============================] - 1s 52us/sample - loss: 0.0570 - val_loss: 0.0570\n",
      "Epoch 19/20\n",
      "13076/13076 [==============================] - 1s 47us/sample - loss: 0.0570 - val_loss: 0.0569\n",
      "Epoch 20/20\n",
      "13076/13076 [==============================] - 1s 43us/sample - loss: 0.0570 - val_loss: 0.0570\n"
     ]
    },
    {
     "data": {
      "text/plain": [
       "<tensorflow.python.keras.callbacks.History at 0x2658ecf2988>"
      ]
     },
     "execution_count": 169,
     "metadata": {},
     "output_type": "execute_result"
    }
   ],
   "source": [
    "model.fit(x_train, y_train, epochs=20, validation_data = (x_valid, y_valid))"
   ]
  },
  {
   "cell_type": "code",
   "execution_count": 72,
   "metadata": {},
   "outputs": [
    {
     "name": "stdout",
     "output_type": "stream",
     "text": [
      "4087/4087 [==============================] - 0s 21us/sample - loss: 0.9953\n"
     ]
    }
   ],
   "source": [
    "mse_test = model.evaluate(x_test, y_test)"
   ]
  },
  {
   "cell_type": "code",
   "execution_count": 74,
   "metadata": {},
   "outputs": [
    {
     "data": {
      "text/plain": [
       "array([[-0.06707814],\n",
       "       [ 0.05825517],\n",
       "       [-0.02682506]], dtype=float32)"
      ]
     },
     "execution_count": 74,
     "metadata": {},
     "output_type": "execute_result"
    }
   ],
   "source": [
    "X_new = x_test[:3]\n",
    "y_pred = model.predict(X_new)\n",
    "y_pred"
   ]
  },
  {
   "cell_type": "markdown",
   "metadata": {},
   "source": [
    "-------------"
   ]
  },
  {
   "cell_type": "code",
   "execution_count": 109,
   "metadata": {},
   "outputs": [],
   "source": [
    "import pandas as pd\n",
    "\n",
    "x1 = np.arange(0,200,2)\n",
    "x2 = np.arange(10,210,2)\n",
    "\n",
    "delta = np.random.uniform(-8,8, size=(100,))\n",
    "x = np.array([x1, x2])\n",
    "data = {'col1': x1, 'col2': x2, 'col3' : (.4 * x1 + 3 * x2 + delta) }"
   ]
  },
  {
   "cell_type": "code",
   "execution_count": 111,
   "metadata": {},
   "outputs": [
    {
     "data": {
      "text/html": [
       "<div>\n",
       "<style scoped>\n",
       "    .dataframe tbody tr th:only-of-type {\n",
       "        vertical-align: middle;\n",
       "    }\n",
       "\n",
       "    .dataframe tbody tr th {\n",
       "        vertical-align: top;\n",
       "    }\n",
       "\n",
       "    .dataframe thead th {\n",
       "        text-align: right;\n",
       "    }\n",
       "</style>\n",
       "<table border=\"1\" class=\"dataframe\">\n",
       "  <thead>\n",
       "    <tr style=\"text-align: right;\">\n",
       "      <th></th>\n",
       "      <th>col1</th>\n",
       "      <th>col2</th>\n",
       "      <th>col3</th>\n",
       "    </tr>\n",
       "  </thead>\n",
       "  <tbody>\n",
       "    <tr>\n",
       "      <th>0</th>\n",
       "      <td>0</td>\n",
       "      <td>10</td>\n",
       "      <td>34.913817</td>\n",
       "    </tr>\n",
       "    <tr>\n",
       "      <th>1</th>\n",
       "      <td>2</td>\n",
       "      <td>12</td>\n",
       "      <td>34.806199</td>\n",
       "    </tr>\n",
       "    <tr>\n",
       "      <th>2</th>\n",
       "      <td>4</td>\n",
       "      <td>14</td>\n",
       "      <td>39.316351</td>\n",
       "    </tr>\n",
       "    <tr>\n",
       "      <th>3</th>\n",
       "      <td>6</td>\n",
       "      <td>16</td>\n",
       "      <td>51.829975</td>\n",
       "    </tr>\n",
       "    <tr>\n",
       "      <th>4</th>\n",
       "      <td>8</td>\n",
       "      <td>18</td>\n",
       "      <td>60.022647</td>\n",
       "    </tr>\n",
       "    <tr>\n",
       "      <th>...</th>\n",
       "      <td>...</td>\n",
       "      <td>...</td>\n",
       "      <td>...</td>\n",
       "    </tr>\n",
       "    <tr>\n",
       "      <th>95</th>\n",
       "      <td>190</td>\n",
       "      <td>200</td>\n",
       "      <td>680.260874</td>\n",
       "    </tr>\n",
       "    <tr>\n",
       "      <th>96</th>\n",
       "      <td>192</td>\n",
       "      <td>202</td>\n",
       "      <td>676.825437</td>\n",
       "    </tr>\n",
       "    <tr>\n",
       "      <th>97</th>\n",
       "      <td>194</td>\n",
       "      <td>204</td>\n",
       "      <td>684.751788</td>\n",
       "    </tr>\n",
       "    <tr>\n",
       "      <th>98</th>\n",
       "      <td>196</td>\n",
       "      <td>206</td>\n",
       "      <td>691.270050</td>\n",
       "    </tr>\n",
       "    <tr>\n",
       "      <th>99</th>\n",
       "      <td>198</td>\n",
       "      <td>208</td>\n",
       "      <td>695.769449</td>\n",
       "    </tr>\n",
       "  </tbody>\n",
       "</table>\n",
       "<p>100 rows × 3 columns</p>\n",
       "</div>"
      ],
      "text/plain": [
       "    col1  col2        col3\n",
       "0      0    10   34.913817\n",
       "1      2    12   34.806199\n",
       "2      4    14   39.316351\n",
       "3      6    16   51.829975\n",
       "4      8    18   60.022647\n",
       "..   ...   ...         ...\n",
       "95   190   200  680.260874\n",
       "96   192   202  676.825437\n",
       "97   194   204  684.751788\n",
       "98   196   206  691.270050\n",
       "99   198   208  695.769449\n",
       "\n",
       "[100 rows x 3 columns]"
      ]
     },
     "execution_count": 111,
     "metadata": {},
     "output_type": "execute_result"
    }
   ],
   "source": [
    "df = pd.DataFrame(data)\n",
    "df"
   ]
  },
  {
   "cell_type": "code",
   "execution_count": 127,
   "metadata": {},
   "outputs": [],
   "source": [
    "x_valid = df.iloc[:10,:2].to_numpy()\n",
    "x_train = df.iloc[10:,:2].to_numpy()\n",
    "y_valid = df.iloc[:10,2].to_numpy()\n",
    "y_train = df.iloc[10:,2].to_numpy()"
   ]
  },
  {
   "cell_type": "code",
   "execution_count": 148,
   "metadata": {},
   "outputs": [
    {
     "name": "stdout",
     "output_type": "stream",
     "text": [
      "Train on 90 samples, validate on 10 samples\n",
      "Epoch 1/3\n",
      "90/90 [==============================] - 0s 4ms/sample - loss: 185265.8392 - val_loss: 1768.1051\n",
      "Epoch 2/3\n",
      "90/90 [==============================] - 0s 156us/sample - loss: 167621.6295 - val_loss: 608.0238\n",
      "Epoch 3/3\n",
      "90/90 [==============================] - 0s 143us/sample - loss: 151851.0733 - val_loss: 432.4919\n"
     ]
    },
    {
     "data": {
      "text/plain": [
       "<tensorflow.python.keras.callbacks.History at 0x26589da12c8>"
      ]
     },
     "execution_count": 148,
     "metadata": {},
     "output_type": "execute_result"
    }
   ],
   "source": [
    "model = keras.models.Sequential([\n",
    "    keras.layers.Dense(2, activation=\"relu\"),\n",
    "    keras.layers.Dense(1)\n",
    "])\n",
    "model.compile(loss=\"mean_squared_error\", optimizer=\"sgd\")\n",
    "model.fit(x_train, y_train, epochs=3, validation_data = (x_valid, y_valid))"
   ]
  },
  {
   "cell_type": "markdown",
   "metadata": {},
   "source": [
    "---\n",
    "\n",
    "# Very very simple regression running fine now"
   ]
  },
  {
   "cell_type": "code",
   "execution_count": 19,
   "metadata": {},
   "outputs": [],
   "source": [
    "import pandas as pd\n",
    "import numpy as np\n",
    "import tensorflow as tf\n",
    "from tensorflow import keras\n",
    "from sklearn.model_selection import train_test_split\n",
    "from sklearn.preprocessing import StandardScaler, MinMaxScaler"
   ]
  },
  {
   "cell_type": "code",
   "execution_count": 17,
   "metadata": {},
   "outputs": [],
   "source": [
    "df = pd.DataFrame({'col1': np.arange(1,10,.1), 'col2': np.arange(21,30,.1)})"
   ]
  },
  {
   "cell_type": "code",
   "execution_count": 72,
   "metadata": {},
   "outputs": [],
   "source": [
    "x = df['col1'].to_numpy()\n",
    "y = df['col2'].to_numpy()\n",
    "\n",
    "x = StandardScaler().fit_transform(x.reshape(-1,1))\n",
    "y = StandardScaler().fit_transform(y.reshape(-1,1))"
   ]
  },
  {
   "cell_type": "code",
   "execution_count": 73,
   "metadata": {},
   "outputs": [],
   "source": [
    "x_train, x_valid = x[10:], x[:10]\n",
    "y_train, y_valid = y[10:], y[:10]"
   ]
  },
  {
   "cell_type": "code",
   "execution_count": 80,
   "metadata": {},
   "outputs": [
    {
     "name": "stdout",
     "output_type": "stream",
     "text": [
      "Train on 80 samples, validate on 10 samples\n",
      "Epoch 1/100\n",
      "80/80 [==============================] - 0s 3ms/sample - loss: 0.3670 - val_loss: 0.8568\n",
      "Epoch 2/100\n",
      "80/80 [==============================] - 0s 163us/sample - loss: 0.2691 - val_loss: 0.6517\n",
      "Epoch 3/100\n",
      "80/80 [==============================] - 0s 188us/sample - loss: 0.2001 - val_loss: 0.4923\n",
      "Epoch 4/100\n",
      "80/80 [==============================] - 0s 213us/sample - loss: 0.1476 - val_loss: 0.3688\n",
      "Epoch 5/100\n",
      "80/80 [==============================] - 0s 198us/sample - loss: 0.1075 - val_loss: 0.2777\n",
      "Epoch 6/100\n",
      "80/80 [==============================] - 0s 213us/sample - loss: 0.0782 - val_loss: 0.2070\n",
      "Epoch 7/100\n",
      "80/80 [==============================] - 0s 163us/sample - loss: 0.0564 - val_loss: 0.1549\n",
      "Epoch 8/100\n",
      "80/80 [==============================] - 0s 201us/sample - loss: 0.0409 - val_loss: 0.1165\n",
      "Epoch 9/100\n",
      "80/80 [==============================] - 0s 201us/sample - loss: 0.0297 - val_loss: 0.0869\n",
      "Epoch 10/100\n",
      "80/80 [==============================] - 0s 188us/sample - loss: 0.0212 - val_loss: 0.0645\n",
      "Epoch 11/100\n",
      "80/80 [==============================] - 0s 188us/sample - loss: 0.0152 - val_loss: 0.0491\n",
      "Epoch 12/100\n",
      "80/80 [==============================] - 0s 176us/sample - loss: 0.0111 - val_loss: 0.0373\n",
      "Epoch 13/100\n",
      "80/80 [==============================] - 0s 213us/sample - loss: 0.0082 - val_loss: 0.0290\n",
      "Epoch 14/100\n",
      "80/80 [==============================] - 0s 188us/sample - loss: 0.0062 - val_loss: 0.0220\n",
      "Epoch 15/100\n",
      "80/80 [==============================] - 0s 194us/sample - loss: 0.0046 - val_loss: 0.0168\n",
      "Epoch 16/100\n",
      "80/80 [==============================] - 0s 163us/sample - loss: 0.0034 - val_loss: 0.0129\n",
      "Epoch 17/100\n",
      "80/80 [==============================] - 0s 113us/sample - loss: 0.0026 - val_loss: 0.0101\n",
      "Epoch 18/100\n",
      "80/80 [==============================] - 0s 150us/sample - loss: 0.0020 - val_loss: 0.0079\n",
      "Epoch 19/100\n",
      "80/80 [==============================] - 0s 150us/sample - loss: 0.0015 - val_loss: 0.0062\n",
      "Epoch 20/100\n",
      "80/80 [==============================] - 0s 163us/sample - loss: 0.0012 - val_loss: 0.0049\n",
      "Epoch 21/100\n",
      "80/80 [==============================] - 0s 125us/sample - loss: 9.7318e-04 - val_loss: 0.0039\n",
      "Epoch 22/100\n",
      "80/80 [==============================] - 0s 138us/sample - loss: 7.7430e-04 - val_loss: 0.0031\n",
      "Epoch 23/100\n",
      "80/80 [==============================] - 0s 144us/sample - loss: 6.2888e-04 - val_loss: 0.0025\n",
      "Epoch 24/100\n",
      "80/80 [==============================] - 0s 151us/sample - loss: 5.0979e-04 - val_loss: 0.0020\n",
      "Epoch 25/100\n",
      "80/80 [==============================] - 0s 125us/sample - loss: 4.1366e-04 - val_loss: 0.0016\n",
      "Epoch 26/100\n",
      "80/80 [==============================] - 0s 150us/sample - loss: 3.4270e-04 - val_loss: 0.0013\n",
      "Epoch 27/100\n",
      "80/80 [==============================] - 0s 138us/sample - loss: 2.9032e-04 - val_loss: 0.0011\n",
      "Epoch 28/100\n",
      "80/80 [==============================] - 0s 175us/sample - loss: 2.4282e-04 - val_loss: 8.6385e-04\n",
      "Epoch 29/100\n",
      "80/80 [==============================] - 0s 150us/sample - loss: 2.0468e-04 - val_loss: 7.1165e-04\n",
      "Epoch 30/100\n",
      "80/80 [==============================] - 0s 113us/sample - loss: 1.7353e-04 - val_loss: 5.8677e-04\n",
      "Epoch 31/100\n",
      "80/80 [==============================] - 0s 169us/sample - loss: 1.4716e-04 - val_loss: 4.8160e-04\n",
      "Epoch 32/100\n",
      "80/80 [==============================] - 0s 145us/sample - loss: 1.2508e-04 - val_loss: 4.0723e-04\n",
      "Epoch 33/100\n",
      "80/80 [==============================] - 0s 150us/sample - loss: 1.0731e-04 - val_loss: 3.4029e-04\n",
      "Epoch 34/100\n",
      "80/80 [==============================] - 0s 150us/sample - loss: 9.1866e-05 - val_loss: 2.8246e-04\n",
      "Epoch 35/100\n",
      "80/80 [==============================] - 0s 113us/sample - loss: 7.8463e-05 - val_loss: 2.3731e-04\n",
      "Epoch 36/100\n",
      "80/80 [==============================] - 0s 150us/sample - loss: 6.7458e-05 - val_loss: 2.0039e-04\n",
      "Epoch 37/100\n",
      "80/80 [==============================] - 0s 150us/sample - loss: 5.8114e-05 - val_loss: 1.6932e-04\n",
      "Epoch 38/100\n",
      "80/80 [==============================] - 0s 157us/sample - loss: 4.9844e-05 - val_loss: 1.4184e-04\n",
      "Epoch 39/100\n",
      "80/80 [==============================] - 0s 113us/sample - loss: 4.2786e-05 - val_loss: 1.1977e-04\n",
      "Epoch 40/100\n",
      "80/80 [==============================] - 0s 125us/sample - loss: 3.6750e-05 - val_loss: 9.9870e-05\n",
      "Epoch 41/100\n",
      "80/80 [==============================] - 0s 138us/sample - loss: 3.1468e-05 - val_loss: 8.4149e-05\n",
      "Epoch 42/100\n",
      "80/80 [==============================] - 0s 138us/sample - loss: 2.7001e-05 - val_loss: 7.0786e-05\n",
      "Epoch 43/100\n",
      "80/80 [==============================] - 0s 138us/sample - loss: 2.3138e-05 - val_loss: 5.9269e-05\n",
      "Epoch 44/100\n",
      "80/80 [==============================] - 0s 150us/sample - loss: 1.9835e-05 - val_loss: 5.0913e-05\n",
      "Epoch 45/100\n",
      "80/80 [==============================] - 0s 150us/sample - loss: 1.7152e-05 - val_loss: 4.3609e-05\n",
      "Epoch 46/100\n",
      "80/80 [==============================] - 0s 144us/sample - loss: 1.4766e-05 - val_loss: 3.6483e-05\n",
      "Epoch 47/100\n",
      "80/80 [==============================] - 0s 125us/sample - loss: 1.2678e-05 - val_loss: 3.2081e-05\n",
      "Epoch 48/100\n",
      "80/80 [==============================] - 0s 131us/sample - loss: 1.0987e-05 - val_loss: 2.7590e-05\n",
      "Epoch 49/100\n",
      "80/80 [==============================] - 0s 150us/sample - loss: 9.4933e-06 - val_loss: 2.3850e-05\n",
      "Epoch 50/100\n",
      "80/80 [==============================] - 0s 125us/sample - loss: 8.2062e-06 - val_loss: 2.0388e-05\n",
      "Epoch 51/100\n",
      "80/80 [==============================] - 0s 150us/sample - loss: 7.0684e-06 - val_loss: 1.7282e-05\n",
      "Epoch 52/100\n",
      "80/80 [==============================] - 0s 138us/sample - loss: 6.0891e-06 - val_loss: 1.4571e-05\n",
      "Epoch 53/100\n",
      "80/80 [==============================] - 0s 113us/sample - loss: 5.2081e-06 - val_loss: 1.2622e-05\n",
      "Epoch 54/100\n",
      "80/80 [==============================] - 0s 138us/sample - loss: 4.4961e-06 - val_loss: 1.0712e-05\n",
      "Epoch 55/100\n",
      "80/80 [==============================] - 0s 138us/sample - loss: 3.8602e-06 - val_loss: 9.2399e-06\n",
      "Epoch 56/100\n",
      "80/80 [==============================] - 0s 154us/sample - loss: 3.3280e-06 - val_loss: 7.9842e-06\n",
      "Epoch 57/100\n",
      "80/80 [==============================] - 0s 138us/sample - loss: 2.8724e-06 - val_loss: 6.9684e-06\n",
      "Epoch 58/100\n",
      "80/80 [==============================] - 0s 125us/sample - loss: 2.4882e-06 - val_loss: 6.1009e-06\n",
      "Epoch 59/100\n",
      "80/80 [==============================] - 0s 150us/sample - loss: 2.1523e-06 - val_loss: 5.3185e-06\n",
      "Epoch 60/100\n",
      "80/80 [==============================] - 0s 150us/sample - loss: 1.8623e-06 - val_loss: 4.5800e-06\n",
      "Epoch 61/100\n",
      "80/80 [==============================] - 0s 150us/sample - loss: 1.6055e-06 - val_loss: 3.8608e-06\n",
      "Epoch 62/100\n",
      "80/80 [==============================] - 0s 125us/sample - loss: 1.3784e-06 - val_loss: 3.3301e-06\n",
      "Epoch 63/100\n",
      "80/80 [==============================] - 0s 138us/sample - loss: 1.1941e-06 - val_loss: 2.9389e-06\n",
      "Epoch 64/100\n",
      "80/80 [==============================] - 0s 150us/sample - loss: 1.0326e-06 - val_loss: 2.5149e-06\n",
      "Epoch 65/100\n",
      "80/80 [==============================] - 0s 163us/sample - loss: 8.9162e-07 - val_loss: 2.1892e-06\n",
      "Epoch 66/100\n",
      "80/80 [==============================] - 0s 150us/sample - loss: 7.6775e-07 - val_loss: 1.8496e-06\n",
      "Epoch 67/100\n",
      "80/80 [==============================] - 0s 150us/sample - loss: 6.5857e-07 - val_loss: 1.5777e-06\n",
      "Epoch 68/100\n",
      "80/80 [==============================] - 0s 138us/sample - loss: 5.6846e-07 - val_loss: 1.3978e-06\n",
      "Epoch 69/100\n",
      "80/80 [==============================] - 0s 163us/sample - loss: 4.9367e-07 - val_loss: 1.1998e-06\n",
      "Epoch 70/100\n",
      "80/80 [==============================] - 0s 163us/sample - loss: 4.2439e-07 - val_loss: 1.0322e-06\n",
      "Epoch 71/100\n",
      "80/80 [==============================] - 0s 124us/sample - loss: 3.6616e-07 - val_loss: 8.5902e-07\n",
      "Epoch 72/100\n",
      "80/80 [==============================] - 0s 125us/sample - loss: 3.1252e-07 - val_loss: 7.3293e-07\n",
      "Epoch 73/100\n",
      "80/80 [==============================] - 0s 163us/sample - loss: 2.6884e-07 - val_loss: 6.3579e-07\n",
      "Epoch 74/100\n",
      "80/80 [==============================] - 0s 163us/sample - loss: 2.3180e-07 - val_loss: 5.5779e-07\n",
      "Epoch 75/100\n",
      "80/80 [==============================] - 0s 163us/sample - loss: 2.0044e-07 - val_loss: 4.8034e-07\n",
      "Epoch 76/100\n",
      "80/80 [==============================] - 0s 150us/sample - loss: 1.7371e-07 - val_loss: 4.2413e-07\n",
      "Epoch 77/100\n",
      "80/80 [==============================] - 0s 150us/sample - loss: 1.5001e-07 - val_loss: 3.6625e-07\n",
      "Epoch 78/100\n",
      "80/80 [==============================] - 0s 150us/sample - loss: 1.2946e-07 - val_loss: 3.1316e-07\n",
      "Epoch 79/100\n",
      "80/80 [==============================] - 0s 157us/sample - loss: 1.1134e-07 - val_loss: 2.6571e-07\n",
      "Epoch 80/100\n",
      "80/80 [==============================] - 0s 150us/sample - loss: 9.5724e-08 - val_loss: 2.3273e-07\n",
      "Epoch 81/100\n",
      "80/80 [==============================] - 0s 150us/sample - loss: 8.2840e-08 - val_loss: 2.0043e-07\n",
      "Epoch 82/100\n",
      "80/80 [==============================] - 0s 138us/sample - loss: 7.1497e-08 - val_loss: 1.7402e-07\n",
      "Epoch 83/100\n",
      "80/80 [==============================] - 0s 138us/sample - loss: 6.1897e-08 - val_loss: 1.5122e-07\n",
      "Epoch 84/100\n",
      "80/80 [==============================] - 0s 163us/sample - loss: 5.3606e-08 - val_loss: 1.3088e-07\n",
      "Epoch 85/100\n",
      "80/80 [==============================] - 0s 169us/sample - loss: 4.6202e-08 - val_loss: 1.1279e-07\n",
      "Epoch 86/100\n",
      "80/80 [==============================] - 0s 165us/sample - loss: 3.9863e-08 - val_loss: 9.7134e-08\n",
      "Epoch 87/100\n",
      "80/80 [==============================] - 0s 201us/sample - loss: 3.4547e-08 - val_loss: 8.6629e-08\n",
      "Epoch 88/100\n",
      "80/80 [==============================] - 0s 163us/sample - loss: 2.9986e-08 - val_loss: 7.2248e-08\n",
      "Epoch 89/100\n",
      "80/80 [==============================] - 0s 163us/sample - loss: 2.5566e-08 - val_loss: 6.0849e-08\n",
      "Epoch 90/100\n",
      "80/80 [==============================] - 0s 150us/sample - loss: 2.1974e-08 - val_loss: 5.2941e-08\n",
      "Epoch 91/100\n",
      "80/80 [==============================] - 0s 182us/sample - loss: 1.8943e-08 - val_loss: 4.4842e-08\n",
      "Epoch 92/100\n",
      "80/80 [==============================] - 0s 150us/sample - loss: 1.6244e-08 - val_loss: 3.8338e-08\n",
      "Epoch 93/100\n",
      "80/80 [==============================] - 0s 163us/sample - loss: 1.3981e-08 - val_loss: 3.3169e-08\n",
      "Epoch 94/100\n",
      "80/80 [==============================] - 0s 138us/sample - loss: 1.2070e-08 - val_loss: 2.8842e-08\n",
      "Epoch 95/100\n",
      "80/80 [==============================] - 0s 163us/sample - loss: 1.0448e-08 - val_loss: 2.5388e-08\n",
      "Epoch 96/100\n",
      "80/80 [==============================] - 0s 175us/sample - loss: 9.0365e-09 - val_loss: 2.1656e-08\n",
      "Epoch 97/100\n",
      "80/80 [==============================] - 0s 163us/sample - loss: 7.7776e-09 - val_loss: 1.8233e-08\n",
      "Epoch 98/100\n",
      "80/80 [==============================] - 0s 163us/sample - loss: 6.6720e-09 - val_loss: 1.5940e-08\n",
      "Epoch 99/100\n",
      "80/80 [==============================] - 0s 173us/sample - loss: 5.7704e-09 - val_loss: 1.3686e-08\n",
      "Epoch 100/100\n",
      "80/80 [==============================] - 0s 163us/sample - loss: 4.9727e-09 - val_loss: 1.1829e-08\n"
     ]
    }
   ],
   "source": [
    "model = keras.models.Sequential([\n",
    "    keras.layers.Dense(1, activation=\"linear\"),\n",
    "    keras.layers.Dense(1)\n",
    "])\n",
    "optimizer = tf.optimizers.SGD(lr=.01)\n",
    "model.compile(loss=\"mean_squared_error\", optimizer=optimizer)\n",
    "history = model.fit(x_train, y_train, epochs=100, validation_data = (x_valid, y_valid))"
   ]
  },
  {
   "cell_type": "code",
   "execution_count": 78,
   "metadata": {},
   "outputs": [
    {
     "data": {
      "text/plain": [
       "(array([-1.3279876]), array([-1.3279876]))"
      ]
     },
     "execution_count": 78,
     "metadata": {},
     "output_type": "execute_result"
    }
   ],
   "source": [
    "x[10], y[10]"
   ]
  },
  {
   "cell_type": "code",
   "execution_count": 79,
   "metadata": {},
   "outputs": [
    {
     "data": {
      "text/plain": [
       "array([[-1.3299378]], dtype=float32)"
      ]
     },
     "execution_count": 79,
     "metadata": {},
     "output_type": "execute_result"
    }
   ],
   "source": [
    "model.predict(np.array([-1.33]))"
   ]
  },
  {
   "cell_type": "code",
   "execution_count": 81,
   "metadata": {},
   "outputs": [
    {
     "data": {
      "image/png": "[encoded data removed]",
      "text/plain": [
       "<Figure size 576x360 with 1 Axes>"
      ]
     },
     "metadata": {
      "needs_background": "light"
     },
     "output_type": "display_data"
    }
   ],
   "source": [
    "import pandas as pd\n",
    "import matplotlib.pyplot as plt\n",
    "\n",
    "pd.DataFrame(history.history).plot(figsize=(8, 5))\n",
    "plt.grid(True)"
   ]
  }
 ],
 "metadata": {
  "kernelspec": {
   "display_name": "Python 3",
   "language": "python",
   "name": "python3"
  },
  "language_info": {
   "codemirror_mode": {
    "name": "ipython",
    "version": 3
   },
   "file_extension": ".py",
   "mimetype": "text/x-python",
   "name": "python",
   "nbconvert_exporter": "python",
   "pygments_lexer": "ipython3",
   "version": "3.7.5"
  }
 },
 "nbformat": 4,
 "nbformat_minor": 4
}
