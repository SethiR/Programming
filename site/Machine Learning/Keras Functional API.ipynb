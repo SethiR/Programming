{
 "cells": [
  {
   "cell_type": "markdown",
   "metadata": {},
   "source": [
    "# Keras Functional API"
   ]
  },
  {
   "cell_type": "code",
   "execution_count": 1,
   "metadata": {},
   "outputs": [],
   "source": [
    "import numpy as np\n",
    "import pandas as pd\n",
    "from sklearn.model_selection import train_test_split\n",
    "from sklearn.preprocessing import StandardScaler, MinMaxScaler\n",
    "import tensorflow as tf\n",
    "from tensorflow import keras"
   ]
  },
  {
   "cell_type": "code",
   "execution_count": 2,
   "metadata": {},
   "outputs": [],
   "source": [
    "df = pd.read_csv(\"data/housing.csv\")\n",
    "df.dropna(inplace=True)"
   ]
  },
  {
   "cell_type": "code",
   "execution_count": 3,
   "metadata": {},
   "outputs": [],
   "source": [
    "X = df.drop(['median_house_value','ocean_proximity'], axis=1)\n",
    "Y = df[['median_house_value']]"
   ]
  },
  {
   "cell_type": "code",
   "execution_count": 4,
   "metadata": {},
   "outputs": [],
   "source": [
    "std_scaler = MinMaxScaler()\n",
    "X, Y = std_scaler.fit_transform(X), std_scaler.fit_transform(Y)\n",
    "# X = std_scaler.fit_transform(X)"
   ]
  },
  {
   "cell_type": "code",
   "execution_count": 5,
   "metadata": {},
   "outputs": [],
   "source": [
    "_, x_test = train_test_split(X, test_size=.2)\n",
    "x_train, x_valid = train_test_split(_, test_size=.2)\n",
    "\n",
    "_, y_test = train_test_split(Y, test_size=.2)\n",
    "y_train, y_valid = train_test_split(_, test_size=.2)"
   ]
  },
  {
   "cell_type": "code",
   "execution_count": 18,
   "metadata": {},
   "outputs": [
    {
     "name": "stdout",
     "output_type": "stream",
     "text": [
      "Train on 13076 samples, validate on 3270 samples\n",
      "Epoch 1/20\n",
      "13076/13076 [==============================] - 1s 60us/sample - loss: 0.1894 - val_loss: 0.1852\n",
      "Epoch 2/20\n",
      "13076/13076 [==============================] - 0s 34us/sample - loss: 0.1822 - val_loss: 0.1853\n",
      "Epoch 3/20\n",
      "13076/13076 [==============================] - 0s 37us/sample - loss: 0.1817 - val_loss: 0.1840\n",
      "Epoch 4/20\n",
      "13076/13076 [==============================] - 0s 38us/sample - loss: 0.1812 - val_loss: 0.1840\n",
      "Epoch 5/20\n",
      "13076/13076 [==============================] - 0s 38us/sample - loss: 0.1810 - val_loss: 0.1840\n",
      "Epoch 6/20\n",
      "13076/13076 [==============================] - 0s 37us/sample - loss: 0.1809 - val_loss: 0.1843\n",
      "Epoch 7/20\n",
      "13076/13076 [==============================] - 0s 36us/sample - loss: 0.1808 - val_loss: 0.1839\n",
      "Epoch 8/20\n",
      "13076/13076 [==============================] - 0s 37us/sample - loss: 0.1807 - val_loss: 0.1838\n",
      "Epoch 9/20\n",
      "13076/13076 [==============================] - 0s 37us/sample - loss: 0.1807 - val_loss: 0.1838\n",
      "Epoch 10/20\n",
      "13076/13076 [==============================] - 0s 37us/sample - loss: 0.1806 - val_loss: 0.1842\n",
      "Epoch 11/20\n",
      "13076/13076 [==============================] - 0s 37us/sample - loss: 0.1806 - val_loss: 0.1869\n",
      "Epoch 12/20\n",
      "13076/13076 [==============================] - 1s 39us/sample - loss: 0.1806 - val_loss: 0.1838\n",
      "Epoch 13/20\n",
      "13076/13076 [==============================] - 1s 41us/sample - loss: 0.1807 - val_loss: 0.1837\n",
      "Epoch 14/20\n",
      "13076/13076 [==============================] - 1s 39us/sample - loss: 0.1805 - val_loss: 0.1839\n",
      "Epoch 15/20\n",
      "13076/13076 [==============================] - 0s 38us/sample - loss: 0.1806 - val_loss: 0.1841\n",
      "Epoch 16/20\n",
      "13076/13076 [==============================] - 1s 38us/sample - loss: 0.1804 - val_loss: 0.1838\n",
      "Epoch 17/20\n",
      "13076/13076 [==============================] - 0s 37us/sample - loss: 0.1805 - val_loss: 0.1838\n",
      "Epoch 18/20\n",
      "13076/13076 [==============================] - 0s 37us/sample - loss: 0.1804 - val_loss: 0.1837\n",
      "Epoch 19/20\n",
      "13076/13076 [==============================] - 0s 37us/sample - loss: 0.1804 - val_loss: 0.1841\n",
      "Epoch 20/20\n",
      "13076/13076 [==============================] - 0s 38us/sample - loss: 0.1804 - val_loss: 0.1842\n"
     ]
    },
    {
     "data": {
      "text/plain": [
       "<tensorflow.python.keras.callbacks.History at 0x227d05a9408>"
      ]
     },
     "execution_count": 18,
     "metadata": {},
     "output_type": "execute_result"
    }
   ],
   "source": [
    "input_ = keras.layers.Input(shape = x_train.shape[1:])\n",
    "hidden1 = keras.layers.Dense(64, activation = 'relu')(input_)\n",
    "hidden2 = keras.layers.Dense(64, activation = 'relu')(hidden1)\n",
    "concat = keras.layers.Concatenate()([input_, hidden2])\n",
    "output = keras.layers.Dense(1)(concat)\n",
    "model = keras.Model(inputs=[input_], outputs=[output])\n",
    "\n",
    "model.compile(loss=\"mean_absolute_error\", optimizer=\"sgd\")\n",
    "\n",
    "model.fit(x_train, y_train, epochs=20, validation_data = (x_valid, y_valid))"
   ]
  },
  {
   "cell_type": "code",
   "execution_count": 8,
   "metadata": {},
   "outputs": [
    {
     "name": "stdout",
     "output_type": "stream",
     "text": [
      "4087/4087 [==============================] - 0s 24us/sample - loss: 0.1831\n"
     ]
    }
   ],
   "source": [
    "mse_test = model.evaluate(x_test, y_test)"
   ]
  },
  {
   "cell_type": "code",
   "execution_count": 10,
   "metadata": {},
   "outputs": [
    {
     "data": {
      "text/plain": [
       "array([[0.28712523],\n",
       "       [0.35207018],\n",
       "       [0.34439915]], dtype=float32)"
      ]
     },
     "execution_count": 10,
     "metadata": {},
     "output_type": "execute_result"
    }
   ],
   "source": [
    "X_new = x_test[:3]\n",
    "y_pred = model.predict(X_new)\n",
    "y_pred"
   ]
  },
  {
   "cell_type": "code",
   "execution_count": 11,
   "metadata": {},
   "outputs": [
    {
     "data": {
      "text/plain": [
       "array([[0.25649585],\n",
       "       [0.15587771],\n",
       "       [0.30494926]])"
      ]
     },
     "execution_count": 11,
     "metadata": {},
     "output_type": "execute_result"
    }
   ],
   "source": [
    "y_test[:3]"
   ]
  },
  {
   "cell_type": "code",
   "execution_count": 48,
   "metadata": {},
   "outputs": [
    {
     "data": {
      "text/plain": [
       "array([[0.4312749 , 0.67693943, 0.41176471, 0.05432626, 0.07635009,\n",
       "        0.02315087, 0.05410294, 0.11763286]])"
      ]
     },
     "execution_count": 48,
     "metadata": {},
     "output_type": "execute_result"
    }
   ],
   "source": [
    "x_test[:1]"
   ]
  },
  {
   "cell_type": "code",
   "execution_count": 49,
   "metadata": {},
   "outputs": [
    {
     "data": {
      "text/plain": [
       "array([[0.08928004],\n",
       "       [0.41175294],\n",
       "       [0.31051625],\n",
       "       ...,\n",
       "       [0.25525874],\n",
       "       [0.58103059],\n",
       "       [0.32701102]])"
      ]
     },
     "execution_count": 49,
     "metadata": {},
     "output_type": "execute_result"
    }
   ],
   "source": [
    "y_test"
   ]
  }
 ],
 "metadata": {
  "kernelspec": {
   "display_name": "Python 3",
   "language": "python",
   "name": "python3"
  },
  "language_info": {
   "codemirror_mode": {
    "name": "ipython",
    "version": 3
   },
   "file_extension": ".py",
   "mimetype": "text/x-python",
   "name": "python",
   "nbconvert_exporter": "python",
   "pygments_lexer": "ipython3",
   "version": "3.7.5"
  }
 },
 "nbformat": 4,
 "nbformat_minor": 4
}
