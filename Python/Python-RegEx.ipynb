{
 "cells": [
  {
   "cell_type": "markdown",
   "metadata": {},
   "source": [
    "# Python RegEx\n",
    "\n",
    "---\n",
    "\n",
    "__Step 1__ - `re.compile()` - returns a Regex pattern object or a regex object. e.g. `phoneRegex = re.compile('\\d\\d\\d-\\d\\d\\d-\\d\\d\\d\\d')`\n",
    "\n",
    "__Step2__ - Search your string using the regex compiled above. e.g. `mo = phoneRegex.search(\"My phone number is 647-123-1234\")`. This will return you a mo i.e. a matching object.\n",
    "\n",
    "__Step3__ - display the string found, else mo will be `null`. `mo.group()`\n",
    "\n",
    "Check the website : https://www.regexpal.com/ to simulate RegEx."
   ]
  },
  {
   "cell_type": "code",
   "execution_count": 15,
   "metadata": {},
   "outputs": [
    {
     "name": "stdout",
     "output_type": "stream",
     "text": [
      "647-123-1234\n"
     ]
    }
   ],
   "source": [
    "import re\n",
    "\n",
    "phoneRegex = re.compile('\\d\\d\\d-\\d\\d\\d-\\d\\d\\d\\d')\n",
    "mo = phoneRegex.search(\"My phone number is 647-123-1234\")\n",
    "print(mo.group())"
   ]
  },
  {
   "cell_type": "markdown",
   "metadata": {},
   "source": [
    "## Grouping\n",
    "You can create groups within the match you are trying to find as shown below. We are separating area code and the actual phone number into separate group."
   ]
  },
  {
   "cell_type": "code",
   "execution_count": 23,
   "metadata": {},
   "outputs": [
    {
     "name": "stdout",
     "output_type": "stream",
     "text": [
      "415 555-4242\n",
      "('415', '555-4242')\n",
      "Area code is : 415 and number is 555-4242\n"
     ]
    }
   ],
   "source": [
    "phoneNumRegex = re.compile(\"(\\d\\d\\d)-(\\d\\d\\d-\\d\\d\\d\\d)\")\n",
    "mo = phoneNumRegex.search('My number is 415-555-4242.')\n",
    "print(mo.group(1), mo.group(2))\n",
    "print(mo.groups())\n",
    "\n",
    "area_code, number = mo.groups()\n",
    "print(\"Area code is : {} and number is {}\".format(area_code, number))"
   ]
  },
  {
   "cell_type": "markdown",
   "metadata": {},
   "source": [
    "- What if your phone number has paranthesis. Then you escape them using backslash as shown below.\n",
    "- The `\\(` and `\\)` escape characters in the raw string passed to re.compile() will match actual parenthesis characters."
   ]
  },
  {
   "cell_type": "code",
   "execution_count": 24,
   "metadata": {},
   "outputs": [
    {
     "name": "stdout",
     "output_type": "stream",
     "text": [
      "(415)\n",
      "555-4242\n"
     ]
    }
   ],
   "source": [
    "phoneNumRegex = re.compile(r'(\\(\\d\\d\\d\\)) (\\d\\d\\d-\\d\\d\\d\\d)')\n",
    "mo = phoneNumRegex.search('My phone number is (415) 555-4242.')\n",
    "print(mo.group(1))\n",
    "print(mo.group(2))"
   ]
  },
  {
   "cell_type": "markdown",
   "metadata": {},
   "source": [
    "## Multiple Groups\n",
    "\n",
    "`|` can be used to match one of many expressions. When both are found the first occurance will be returned."
   ]
  },
  {
   "cell_type": "code",
   "execution_count": 31,
   "metadata": {},
   "outputs": [
    {
     "name": "stdout",
     "output_type": "stream",
     "text": [
      "Batman \n",
      "WonderWomen\n"
     ]
    }
   ],
   "source": [
    "heroRegex = re.compile(\"Batman |WonderWomen\")\n",
    "mo1 = heroRegex.search('Batman and WonderWomen')\n",
    "mo2 = heroRegex.search('WonderWomen and Batman')\n",
    "print(mo1.group())\n",
    "print(mo2.group())"
   ]
  },
  {
   "cell_type": "code",
   "execution_count": 40,
   "metadata": {
    "scrolled": true
   },
   "outputs": [
    {
     "name": "stdout",
     "output_type": "stream",
     "text": [
      "Batmobile\n",
      "Batmobile\n",
      "mobile\n"
     ]
    }
   ],
   "source": [
    "batRegex = re.compile('Bat(man|mobile|copter|bat)')  # this is matching Batman or Batmobile or Batcopter etc...\n",
    "mo = batRegex.search('Batmobile lost a wheel')\n",
    "print(mo.group())  # returns full matched word\n",
    "print(mo.group(0)) # same as above\n",
    "print(mo.group(1)) # returns the match inside 1st parenthesis"
   ]
  },
  {
   "cell_type": "markdown",
   "metadata": {},
   "source": [
    "## Optionally\n",
    "\n",
    "- `?` - Use `?` to match zero or one occurance. Here it denotes 0 or 1 occurance of `wo`.\n",
    "- `*` - Use `*` to match zero or more occurances."
   ]
  },
  {
   "cell_type": "code",
   "execution_count": 48,
   "metadata": {},
   "outputs": [
    {
     "name": "stdout",
     "output_type": "stream",
     "text": [
      "Batman\n",
      "Batwoman\n",
      "Batwoman\n",
      "None\n"
     ]
    }
   ],
   "source": [
    "regex = re.compile(\"Bat(wo)?man\")\n",
    "\n",
    "mo1 = regex.search(\"Batman is cool\")\n",
    "print(mo1.group())\n",
    "\n",
    "mo2 = regex.search(\"Batwoman is cool\")\n",
    "print(mo2.group())\n",
    "\n",
    "mo2 = regex.search(\"Batwoman is cool\")\n",
    "print(mo2.group())\n",
    "\n",
    "mo3 = regex.search(\"Batwowoman is cool\")\n",
    "print(mo3)"
   ]
  },
  {
   "cell_type": "code",
   "execution_count": 51,
   "metadata": {},
   "outputs": [
    {
     "name": "stdout",
     "output_type": "stream",
     "text": [
      "Batman\n",
      "Batwoman\n",
      "Batwoman\n",
      "Batwowowowoman\n"
     ]
    }
   ],
   "source": [
    "# Using * - Finds 0 ore more occurances\n",
    "\n",
    "regex = re.compile(\"Bat(wo)*man\")\n",
    "\n",
    "mo1 = regex.search(\"Batman is cool\")\n",
    "print(mo1.group())\n",
    "\n",
    "mo2 = regex.search(\"Batwoman is cool\")\n",
    "print(mo2.group())\n",
    "\n",
    "mo2 = regex.search(\"Batwoman is cool\")\n",
    "print(mo2.group())\n",
    "\n",
    "mo3 = regex.search(\"Batwowowowoman is cool\")\n",
    "print(mo3.group())"
   ]
  },
  {
   "cell_type": "markdown",
   "metadata": {},
   "source": [
    "## Specific occurances or at least 1 occurance\n",
    "\n",
    "- `+` - One or more.\n",
    "- `(Ha){3}` - Specific 3 occurances\n",
    "- `(Ha){3,5}` - Min 3 and a max of 5\n",
    "- `(Ha){3,}` - Min 3 and a max of infinity\n",
    "- `(Ha){,5}` - Min 0 and a max of 5"
   ]
  },
  {
   "cell_type": "code",
   "execution_count": 54,
   "metadata": {},
   "outputs": [],
   "source": [
    "batRegex = re.compile(r'Bat(wo)+man')  # at least 1 wo\n",
    "batRegex = re.compile(r'Bat(wo){3}man')  # specifically 3 wo."
   ]
  },
  {
   "cell_type": "code",
   "execution_count": 60,
   "metadata": {
    "scrolled": true
   },
   "outputs": [
    {
     "name": "stdout",
     "output_type": "stream",
     "text": [
      "HaHaHa\n",
      "True\n"
     ]
    }
   ],
   "source": [
    "regex = re.compile('(Ha){3}')  # will find 3 HaHaHa\n",
    "\n",
    "mo = regex.search(\"HaHaHaHa\")\n",
    "print(mo.group())\n",
    "\n",
    "mo = regex.search(\"HaHa\")\n",
    "print(mo == None)"
   ]
  },
  {
   "cell_type": "code",
   "execution_count": null,
   "metadata": {},
   "outputs": [],
   "source": []
  }
 ],
 "metadata": {
  "kernelspec": {
   "display_name": "Python 3",
   "language": "python",
   "name": "python3"
  },
  "language_info": {
   "codemirror_mode": {
    "name": "ipython",
    "version": 3
   },
   "file_extension": ".py",
   "mimetype": "text/x-python",
   "name": "python",
   "nbconvert_exporter": "python",
   "pygments_lexer": "ipython3",
   "version": "3.6.2"
  }
 },
 "nbformat": 4,
 "nbformat_minor": 2
}
