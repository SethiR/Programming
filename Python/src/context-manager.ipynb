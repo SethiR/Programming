{
 "cells": [
  {
   "cell_type": "markdown",
   "metadata": {},
   "source": [
    "# Context Managers\n",
    "---"
   ]
  },
  {
   "cell_type": "markdown",
   "metadata": {},
   "source": [
    "The `with` statement sets up a temporary context and reliably tears it down. The `with` statement was designed to simplify the try/finally pattern which gaureentees even if the block is aborted even because of an exception the finally clause will release the critical resource.\n",
    "\n",
    "The context manager works with `__enter__` and `__exit__` protocol.\n",
    "\n",
    "__Usage__\n",
    "\n",
    "The context manager should be used for common setup and tear down code, which is not just applicable for files. There can be various uses for it."
   ]
  },
  {
   "cell_type": "code",
   "execution_count": 86,
   "metadata": {},
   "outputs": [],
   "source": [
    "# Sample context manager for file.\n",
    "\n",
    "class File:\n",
    "    \n",
    "    def __init__(self, file, method):\n",
    "        self.file = open(file, method)\n",
    "        \n",
    "    def __enter__(self):\n",
    "        return self.file  # returns the object which will sit in \"f\" --> with File(abc.txt, w) as \"f\"\n",
    "    \n",
    "    def __exit__(self, exception_type, exception_value, traceback):   # The exit must take in these 4 params else it raises exception\n",
    "        self.file.close()"
   ]
  },
  {
   "cell_type": "markdown",
   "metadata": {},
   "source": [
    "The context manager which you see above provides a pattern of `__enter__` and `__exit__`. However if you see there is no exception which is handled here. One way is to handle exceptionions manually..."
   ]
  },
  {
   "cell_type": "code",
   "execution_count": 87,
   "metadata": {},
   "outputs": [],
   "source": [
    "# Another example of a context manager.\n",
    "\n",
    "import time\n",
    "\n",
    "class Timer:\n",
    "    \n",
    "    def __enter__(self):\n",
    "        self.start = time.time_ns()\n",
    "        return self\n",
    "        \n",
    "    def __exit__(self, exception_type, exception_value, traceback):\n",
    "        self.end = time.time_ns()\n",
    "        self.processing_time = self.end - self.start\n",
    "        "
   ]
  },
  {
   "cell_type": "code",
   "execution_count": 88,
   "metadata": {},
   "outputs": [
    {
     "name": "stdout",
     "output_type": "stream",
     "text": [
      "0\n",
      "1\n",
      "2\n",
      "3\n",
      "4\n",
      "5\n",
      "6\n",
      "7\n",
      "8\n",
      "9\n"
     ]
    },
    {
     "data": {
      "text/plain": [
       "100219600"
      ]
     },
     "execution_count": 88,
     "metadata": {},
     "output_type": "execute_result"
    }
   ],
   "source": [
    "with Timer() as t:\n",
    "    time.sleep(.1)\n",
    "    for i in range(10):\n",
    "        print(i)\n",
    "    \n",
    "t.processing_time"
   ]
  },
  {
   "cell_type": "markdown",
   "metadata": {},
   "source": [
    "---\n",
    "\n",
    "## contextmanager\n",
    "\n",
    "Handling all sorts of exceptions can be difficult so python has provided with a decorator that turns a generator function into a context manager. Because think of it `__enter__` is starting something and pausing and then `__exit__` takes over when we have to tear it down or finish the work which is exactly what a generator does it yeilds and waits.\n",
    "\n",
    "You can use the `contextlib` library to import the `contextmanager` decorator to turn your generator into a context manager.\n",
    "\n",
    "Go and check out the code of `contextmanager` it does handle a lot of exceptions and makes it easier to create a context manager and do away with the `__enter__` and `__exit__` protocol."
   ]
  },
  {
   "cell_type": "code",
   "execution_count": 91,
   "metadata": {},
   "outputs": [
    {
     "name": "stdout",
     "output_type": "stream",
     "text": [
      "0\n",
      "1\n",
      "2\n",
      "3\n",
      "4\n",
      "5\n",
      "6\n",
      "7\n",
      "8\n",
      "9\n",
      "Time taken in ns = 100953200\n"
     ]
    }
   ],
   "source": [
    "from contextlib import contextmanager\n",
    "import time\n",
    "\n",
    "@contextmanager\n",
    "def timer():\n",
    "    start = time.time_ns()\n",
    "    yield  # same concept it should return something which goes into the with \"as\" variable.\n",
    "    end = time.time_ns()\n",
    "    print(f\"Time taken in ns = {end - start}\")\n",
    "    \n",
    "with timer() as t:\n",
    "    time.sleep(.1)\n",
    "    for i in range(10):\n",
    "        print(i)"
   ]
  },
  {
   "cell_type": "code",
   "execution_count": 96,
   "metadata": {},
   "outputs": [],
   "source": [
    "@contextmanager\n",
    "def file_manager(f):\n",
    "    file = open(f)\n",
    "    yield  file # same concept it should return something which goes into the with \"as\" variable.\n",
    "    file.close()\n",
    "    print(\"File closed\")"
   ]
  },
  {
   "cell_type": "code",
   "execution_count": 98,
   "metadata": {
    "collapsed": true,
    "jupyter": {
     "outputs_hidden": true
    }
   },
   "outputs": [
    {
     "name": "stdout",
     "output_type": "stream",
     "text": [
      "['# Forms\\n', '\\n', '### Formsets\\n', '\\n', '\\n', 'Create a simple model with few fields.\\n', '\\n', '```python\\n', '# models.py\\n', '\\n', 'class Employee(models.Model):\\n', '\\n', '    name = models.CharField(max_length=40)\\n', '    is_manager = models.BooleanField(default=False)\\n', '    email = models.CharField(max_length = 100)\\n', '\\n', '    def __str__(self):\\n', '        return self.name\\n', '```\\n', '\\n', 'After creating a model, lets create a model form for that model. Also create the formset for that model and form as shown below.\\n', '\\n', '```python\\n', '# forms.py\\n', '\\n', 'from django import forms\\n', 'from .models import *\\n', 'from django.forms import modelformset_factory\\n', '\\n', '\\n', 'class EmployeeForm(forms.ModelForm):\\n', '    email = forms.EmailField(disabled=True)  # disable field\\n', '\\n', '    class Meta:\\n', '        model = Employee\\n', \"        fields = ['email', 'name', 'is_manager']\\n\", '\\n', '\\n', 'EmployeeFormSet = modelformset_factory(Employee, form=EmployeeForm, max_num=0)\\n', '\\n', '```\\n', '\\n', 'Use the formset created in the view.\\n', '\\n', '```python\\n', '# views.py\\n', '\\n', 'from django.shortcuts import render\\n', 'from .forms import *\\n', 'from django.views import View\\n', 'from .models import *\\n', '\\n', '\\n', 'def index(request):\\n', '    context = {}\\n', \"    if request.method == 'GET':\\n\", '        \\n', '        formset = EmployeeFormSet()\\n', \"        return render(request, 'tryformsets/index.html', {'formset' : formset})\\n\", '\\n', \"    if request.method == 'POST':\\n\", '\\n', '        # formset = EmployeeFormSet(request.POST or None, request.FILES or None)\\n', '        formset = EmployeeFormSet(request.POST)\\n', '        if formset.is_valid():\\n', '            formset.save()\\n', '        formset = EmployeeFormSet()\\n', \"        return render(request, 'tryformsets/index.html', {'formset' : formset})\\n\", '\\n', '```  \\n', '\\n', 'Then create the template and use the formset. Make sure to include the `{{formset.management_form}}` else it gives error. For more information check the [link](https://docs.djangoproject.com/en/2.2/topics/forms/formsets/#understanding-the-managementform)\\n', '\\n', '```html\\n', '<form method=\"POST\" action=\".\">{% csrf_token %}\\n', '\\n', '    {{ formset.management_form }}\\n', '\\n', '    <table class=\"table\">\\n', '        <thead>\\n', '            <tr>\\n', '                <th>Name</th>\\n', '                <th>Item Name</th>\\n', '                <th>Item Price</th>\\n', '            </tr>\\n', '        </thead>\\n', '        {% for form in formset %}\\n', '\\n', '        <tbody>\\n', '            {{ form.id }}\\n', '            <tr>\\n', '                <td>{{ form.name }}</td>\\n', '                <td>{{ form.email }}</td>\\n', '                <td>{{ form.is_manager }}</td>\\n', '            </tr>\\n', '            {% endfor %}\\n', '        </tbody>\\n', '\\n', '    </table>\\n', '    <button type=\"submit\">Submit</button>\\n', '</form>\\n', '```\\n', '\\n', '<hr>\\n', '\\n', '## Working with DB\\n', '\\n', '### Bulk Update\\n', '\\n', '```python\\n', '# Coverage is a model which we need to update in bulk.\\n', '# Here we are trying to update the rows with pk = 33, 34 and 35 with different values.\\n', '>>> objs = []\\n', '>>> objs.append(Coverage.objects.get(pk = 33))                                             \\n', '>>>                                                                                        \\n', '>>> objs.append(Coverage.objects.get(pk = 34))                                             \\n', '>>> objs.append(Coverage.objects.get(pk = 35))                                             \\n', '>>>                                                                                        \\n', '>>> objs[1].coverage_needed = True                                                         \\n', '>>>                                                                                        \\n', '>>> objs[1].coverage_needed                                                                \\n', 'True                                                                                       \\n', '>>>                                                                                        \\n', '>>> objs[2].coverage_needed                                                                \\n', 'False                                                                                      \\n', '>>>                                                                                        \\n', '>>> objs[0].unavailable = True                                                             \\n', '>>>                                                                                        \\n', '>>> objs[2].supply_called = True                                                           \\n', '>>>                                                                                        \\n', \">>> Coverage.objects.bulk_update(objs, ['coverage_needed', 'supply_called', 'unavailable'])\\n\", '```\\n', '\\n', '## Links\\n', '\\n', '### Forms\\n', '\\n', '- [DataTable Editable](https://stackoverflow.com/questions/56290703/django-edit-html-table-rows-and-update-database)\\n', '- [Django Forms - HTML](https://stackoverflow.com/questions/39183155/django-with-html-forms)\\n', '- [Django Forms - Rendering each form element manually for better styling.](https://simpleisbetterthancomplex.com/article/2017/08/19/how-to-render-django-form-manually.html)\\n', '\\n', '\\n', '\\n']\n",
      "File closed\n"
     ]
    }
   ],
   "source": [
    "with file_manager(\"django.md\") as f:\n",
    "    print(f.readlines())"
   ]
  },
  {
   "cell_type": "markdown",
   "metadata": {},
   "source": [
    "There could be certain cases where you need to handle and tackle excpetions manually or have some explicit requirements which are better suited in class then you can go ahead and use the traditional way."
   ]
  }
 ],
 "metadata": {
  "kernelspec": {
   "display_name": "Python 3",
   "language": "python",
   "name": "python3"
  },
  "language_info": {
   "codemirror_mode": {
    "name": "ipython",
    "version": 3
   },
   "file_extension": ".py",
   "mimetype": "text/x-python",
   "name": "python",
   "nbconvert_exporter": "python",
   "pygments_lexer": "ipython3",
   "version": "3.7.5"
  }
 },
 "nbformat": 4,
 "nbformat_minor": 4
}
