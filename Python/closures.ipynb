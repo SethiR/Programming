{
 "cells": [
  {
   "cell_type": "markdown",
   "metadata": {
    "toc-hr-collapsed": false
   },
   "source": [
    "# Closures : An In depth look with Python"
   ]
  },
  {
   "cell_type": "markdown",
   "metadata": {},
   "source": [
    "## What is a closure ? And how to I make one ?\n",
    "\n",
    "A closure is a function with an extended scope i.e. it can access nonglobal variables that are not defined, but accessed within its body. Closure can be usefull to keep track of a state. (Very similar to an object).\n",
    "\n",
    "Lets try and understand the above statement by logically constructing a closure step by step with the principles we already know."
   ]
  },
  {
   "cell_type": "markdown",
   "metadata": {},
   "source": [
    "Check out this simple function definition with which we all are familiar with..."
   ]
  },
  {
   "cell_type": "code",
   "execution_count": 19,
   "metadata": {},
   "outputs": [],
   "source": [
    "def foo():\n",
    "    print('bar')"
   ]
  },
  {
   "cell_type": "markdown",
   "metadata": {},
   "source": [
    "Lets create a function which has another function defined within in, which is returned to the caller. Python allows such programming patterns as it treats functions as first class citizens. For further details on this topic check out my other blog [First Class Functions in Python](https://sethirajat.com/first-class-functions-in-python/)"
   ]
  },
  {
   "cell_type": "code",
   "execution_count": 26,
   "metadata": {},
   "outputs": [],
   "source": [
    "def foo():\n",
    "    def bar():\n",
    "        print('In bar')\n",
    "    return bar"
   ]
  },
  {
   "cell_type": "code",
   "execution_count": 27,
   "metadata": {},
   "outputs": [
    {
     "data": {
      "text/plain": [
       "<function __main__.foo.<locals>.bar()>"
      ]
     },
     "execution_count": 27,
     "metadata": {},
     "output_type": "execute_result"
    }
   ],
   "source": [
    "foo()  # returns the bar function"
   ]
  },
  {
   "cell_type": "markdown",
   "metadata": {},
   "source": [
    "We can also assign the returned `bar` function to a variable and then execute it."
   ]
  },
  {
   "cell_type": "code",
   "execution_count": 30,
   "metadata": {},
   "outputs": [
    {
     "name": "stdout",
     "output_type": "stream",
     "text": [
      "<function foo.<locals>.bar at 0x00C25B70>\n",
      "In bar\n"
     ]
    }
   ],
   "source": [
    "x = foo()\n",
    "print(x)  # <function foo.<locals>.bar at 0x00ED9DF8>\n",
    "x()  # In bar"
   ]
  },
  {
   "cell_type": "markdown",
   "metadata": {},
   "source": [
    "## A simple example of Closure\n",
    "\n",
    "Lets modify the foo method so that it defines some variable within its funcitons body."
   ]
  },
  {
   "cell_type": "code",
   "execution_count": 41,
   "metadata": {},
   "outputs": [],
   "source": [
    "def foo():\n",
    "    var_in_foo = 10\n",
    "    def bar():\n",
    "        print(var_in_foo)\n",
    "    return bar"
   ]
  },
  {
   "cell_type": "code",
   "execution_count": 42,
   "metadata": {},
   "outputs": [
    {
     "name": "stdout",
     "output_type": "stream",
     "text": [
      "10\n"
     ]
    }
   ],
   "source": [
    "x = foo()\n",
    "x()"
   ]
  },
  {
   "cell_type": "markdown",
   "metadata": {},
   "source": [
    "As you see above the value 10 gets printed, even though the function `foo` was executed before, x i.e. the `bar` function has closure over the variable `var_in_foo`. This may seem a little unusual because once the function is executed and done Python gets rid of the variables defined within it. However in this example the code keeps the value of the `var_in_foo`.\n",
    "\n",
    "If you are interested in finding how this is working in detail you would have to understand how Cpython is implemented (may be I will do a post in future) with technique known as reference counting. In a nutshell Python will not get rid of the value/variable until someone is referring to it and here x contains reference to `var_in_foo`"
   ]
  },
  {
   "cell_type": "markdown",
   "metadata": {},
   "source": [
    "## Digging a little deeper"
   ]
  },
  {
   "cell_type": "markdown",
   "metadata": {},
   "source": [
    "Lets dig a little deeper using the `__closure__` and `code` object which is one of the few types used internally by the interpreter that is exposed to the user."
   ]
  },
  {
   "cell_type": "markdown",
   "metadata": {},
   "source": [
    "### `__closure__`\n",
    "\n",
    "It is a read only attribute that contain bindings for the function’s free variables. (The term free variable refers to variables used in a function that are not local variables nor parameters of that function)"
   ]
  },
  {
   "cell_type": "code",
   "execution_count": 59,
   "metadata": {},
   "outputs": [
    {
     "data": {
      "text/plain": [
       "(<cell at 0x00EF6DD0: int object at 0x0FFC6540>,)"
      ]
     },
     "execution_count": 59,
     "metadata": {},
     "output_type": "execute_result"
    }
   ],
   "source": [
    "# Confirms that there is a closure over an integer object\n",
    "x.__closure__  # returns a tuple"
   ]
  },
  {
   "cell_type": "code",
   "execution_count": 58,
   "metadata": {},
   "outputs": [
    {
     "data": {
      "text/plain": [
       "10"
      ]
     },
     "execution_count": 58,
     "metadata": {},
     "output_type": "execute_result"
    }
   ],
   "source": [
    "# Get the value of that variable\n",
    "x.__closure__[0].cell_contents"
   ]
  },
  {
   "cell_type": "markdown",
   "metadata": {},
   "source": [
    "### Code Object\n",
    "\n",
    "Code objects represent byte-compiled executable Python code, or bytecode. There are certain attributes which the code object provides which are of interest to us with respect to closures."
   ]
  },
  {
   "cell_type": "markdown",
   "metadata": {},
   "source": [
    "`co_freevars` is a tuple containing the names of free variables. When we call this attribute on the x object (i.e. the `bar` function) it tells us that it has closure over the  `var_in_foo` free variable."
   ]
  },
  {
   "cell_type": "code",
   "execution_count": 63,
   "metadata": {},
   "outputs": [
    {
     "data": {
      "text/plain": [
       "('var_in_foo',)"
      ]
     },
     "execution_count": 63,
     "metadata": {},
     "output_type": "execute_result"
    }
   ],
   "source": [
    "x.__code__.co_freevars"
   ]
  },
  {
   "cell_type": "markdown",
   "metadata": {},
   "source": [
    "`co_cellvars` is a tuple containing the names of local variables that are referenced by nested functions. By calling this on the `foo` (the outer function) we see that 1 of its variable is referenced by its nested function."
   ]
  },
  {
   "cell_type": "code",
   "execution_count": 62,
   "metadata": {},
   "outputs": [
    {
     "data": {
      "text/plain": [
       "('var_in_foo',)"
      ]
     },
     "execution_count": 62,
     "metadata": {},
     "output_type": "execute_result"
    }
   ],
   "source": [
    "foo.__code__.co_cellvars"
   ]
  },
  {
   "cell_type": "markdown",
   "metadata": {},
   "source": [
    "The code object provides many such attributes, check out [standard python reference](https://docs.python.org/3.8/reference/datamodel.html) for further detials. Search for `Code objects` within the page."
   ]
  },
  {
   "cell_type": "markdown",
   "metadata": {},
   "source": [
    "## Some examples of closures\n",
    "\n",
    "Enough with the theory for now, lets get some practical experience under our belt."
   ]
  },
  {
   "cell_type": "markdown",
   "metadata": {},
   "source": [
    "__Example 1__ : Create a greeting function for different languages."
   ]
  },
  {
   "cell_type": "code",
   "execution_count": 82,
   "metadata": {},
   "outputs": [],
   "source": [
    "def salutation(salutation = \"Hello\"):\n",
    "    def greet(name):\n",
    "        print(f'{salutation} {name}')\n",
    "    return greet"
   ]
  },
  {
   "cell_type": "code",
   "execution_count": 85,
   "metadata": {},
   "outputs": [
    {
     "name": "stdout",
     "output_type": "stream",
     "text": [
      "Bonjour Jake\n"
     ]
    }
   ],
   "source": [
    "french = salutation(\"Bonjour\")\n",
    "french(\"Jake\")"
   ]
  },
  {
   "cell_type": "code",
   "execution_count": 86,
   "metadata": {},
   "outputs": [
    {
     "name": "stdout",
     "output_type": "stream",
     "text": [
      "Hola Jake\n"
     ]
    }
   ],
   "source": [
    "spanish = salutation(\"Hola\")\n",
    "spanish(\"Jake\")"
   ]
  },
  {
   "cell_type": "code",
   "execution_count": 87,
   "metadata": {},
   "outputs": [
    {
     "name": "stdout",
     "output_type": "stream",
     "text": [
      "Hello Jake\n"
     ]
    }
   ],
   "source": [
    "english = salutation()\n",
    "english(\"Jake\")"
   ]
  },
  {
   "cell_type": "markdown",
   "metadata": {},
   "source": [
    "__Example 2__ : Create a function which keeps a running total using closure.\n",
    "\n",
    "`nonlocal` is similar to the global keyword and tells python that the variable we are using is a non local variable "
   ]
  },
  {
   "cell_type": "code",
   "execution_count": 92,
   "metadata": {},
   "outputs": [],
   "source": [
    "# Running Total\n",
    "\n",
    "def running_total(total = 0):\n",
    "    def add_to(num):\n",
    "        nonlocal total  \n",
    "        total += num\n",
    "        return total\n",
    "    return add_to"
   ]
  },
  {
   "cell_type": "code",
   "execution_count": 93,
   "metadata": {},
   "outputs": [],
   "source": [
    "expenses = running_total(50)"
   ]
  },
  {
   "cell_type": "code",
   "execution_count": 94,
   "metadata": {},
   "outputs": [
    {
     "data": {
      "text/plain": [
       "70"
      ]
     },
     "execution_count": 94,
     "metadata": {},
     "output_type": "execute_result"
    }
   ],
   "source": [
    "expenses(20)"
   ]
  },
  {
   "cell_type": "code",
   "execution_count": 95,
   "metadata": {},
   "outputs": [
    {
     "data": {
      "text/plain": [
       "80.2"
      ]
     },
     "execution_count": 95,
     "metadata": {},
     "output_type": "execute_result"
    }
   ],
   "source": [
    "expenses(10.2)"
   ]
  },
  {
   "cell_type": "markdown",
   "metadata": {},
   "source": [
    "__Example 3 :__ Another take on the running total. You will notice that this example resembles much closer to object oriented programming.\n",
    "\n",
    "Here we have the parent function `running_total` and 3 nested function. The `dispatcher` function is used to add the other 2 functions to it, the `dispatcher` function is then returned so that `sams_expenses` variable can call `add_to` and `print_expenses` in familiar instance (OOP) style programming."
   ]
  },
  {
   "cell_type": "code",
   "execution_count": 140,
   "metadata": {},
   "outputs": [],
   "source": [
    "def running_total(name, month, year):\n",
    "    \n",
    "    expenses = {}\n",
    "    \n",
    "    def add_to(expense_type, value):\n",
    "        expenses[expense_type] = value\n",
    "\n",
    "    def print_expenses():\n",
    "        print(f'Name : {name}, Month : {month}, Year : {year}')\n",
    "        total = 0\n",
    "        for expense_type, value in expenses.items():\n",
    "            print(f'{expense_type} : ${value}')\n",
    "            total += value\n",
    "        print('-' * 10)\n",
    "        print(f'Total : ${total}')\n",
    "        \n",
    "    def dispatcher():\n",
    "        pass\n",
    "    \n",
    "    dispatcher.add_to = add_to\n",
    "    dispatcher.print_expenses = print_expenses\n",
    "\n",
    "    return dispatcher"
   ]
  },
  {
   "cell_type": "code",
   "execution_count": 141,
   "metadata": {},
   "outputs": [
    {
     "name": "stdout",
     "output_type": "stream",
     "text": [
      "Name : Sam, Month : Jan, Year : 2019\n",
      "Grocery : $100\n",
      "Rent : $900\n",
      "----------\n",
      "Total : $1000\n"
     ]
    }
   ],
   "source": [
    "sams_expenses = running_total(\"Sam\", \"Jan\", 2019)\n",
    "sams_expenses.add_to(\"Grocery\", 100)\n",
    "sams_expenses.add_to(\"Rent\", 900)\n",
    "sams_expenses.print_expenses()"
   ]
  },
  {
   "cell_type": "markdown",
   "metadata": {},
   "source": [
    "As you see the above methods look a lot like instance methods even though no class is involved. Not all languages support class construct e.g. Haskel, JavaScript (Classes in JavaScript are just syntatic sugar), however such style of programming is prevalent in such languages. There have been some random tests done where closures and marked to run faster than OOP (class/instance style) code (by as much as 8%) as their is no `self` variable involved. However you should understand that not everyone is familiar with such type of code, and such implementation may confuse people.\n",
    "\n",
    "Moreover you loose certain object oriented functionality like inheritance etc..."
   ]
  },
  {
   "cell_type": "markdown",
   "metadata": {},
   "source": [
    "## Real world usage\n",
    "\n",
    "While not everyone may be ultra familiar with closures but they are definitely a usefull tool in your arsenal. Below are some of the areas and programming paradigms where closues are used and popular.\n",
    "\n",
    "- `Decorators` - Closures are heavily, heavily used in decorators.\n",
    "- `Single method classes` - Single method classes can be re-written using closures.\n",
    "- `Functional programming` - They are popular in functional style programming."
   ]
  }
 ],
 "metadata": {
  "kernelspec": {
   "display_name": "Python 3",
   "language": "python",
   "name": "python3"
  },
  "language_info": {
   "codemirror_mode": {
    "name": "ipython",
    "version": 3
   },
   "file_extension": ".py",
   "mimetype": "text/x-python",
   "name": "python",
   "nbconvert_exporter": "python",
   "pygments_lexer": "ipython3",
   "version": "3.7.4"
  },
  "toc-autonumbering": false,
  "toc-showcode": false,
  "toc-showmarkdowntxt": false,
  "toc-showtags": false
 },
 "nbformat": 4,
 "nbformat_minor": 4
}
