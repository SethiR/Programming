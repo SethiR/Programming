{
 "cells": [
  {
   "cell_type": "code",
   "execution_count": 2,
   "metadata": {},
   "outputs": [],
   "source": [
    "import tensorflow as tf\n",
    "import numpy as np\n",
    "from tensorflow import keras\n",
    "\n",
    "\n",
    "with np.load('data/mnist_fashion.npz') as data:\n",
    "    X = data['x_train']\n",
    "    Y = data['y_train']\n",
    "    x_test = data['x_test']\n",
    "    y_test = data['y_test']\n",
    "    \n",
    "    \n",
    "x_valid, x_train = X[:5000]/255.0 , X[5000:]/255.0\n",
    "y_valid, y_train = Y[:5000] , Y[5000:]\n",
    "\n",
    "class_names = [\"T-shirt/top\", \"Trouser\", \"Pullover\", \"Dress\", \"Coat\",\n",
    "                \"Sandal\", \"Shirt\", \"Sneaker\", \"Bag\", \"Ankle boot\"]\n",
    "\n",
    "\n",
    "model = keras.models.Sequential()\n",
    "model.add(keras.layers.Flatten(input_shape = [28,28]))\n",
    "model.add(keras.layers.Dense(300, activation = 'relu'))\n",
    "model.add(keras.layers.Dense(100, activation=\"relu\"))\n",
    "model.add(keras.layers.Dense(10, activation=\"softmax\"))\n",
    "\n",
    "model.compile(loss=\"sparse_categorical_crossentropy\", optimizer = \"sgd\", metrics=[\"accuracy\"])"
   ]
  },
  {
   "cell_type": "code",
   "execution_count": 8,
   "metadata": {},
   "outputs": [],
   "source": [
    "import os\n",
    "root_log_dir = os.path.join(os.curdir, \"my_logs\")\n",
    "\n",
    "def get_run_logdir():\n",
    "    import time\n",
    "    run_id = time.strftime(\"run_%Y_%m_%d-%H_%M_%S\")\n",
    "    return os.path.join(root_log_dir, run_id)\n",
    "\n",
    "run_logdir = get_run_logdir()\n",
    "\n",
    "tensorboard_cb = keras.callbacks.TensorBoard(run_logdir)"
   ]
  },
  {
   "cell_type": "code",
   "execution_count": 9,
   "metadata": {},
   "outputs": [
    {
     "name": "stdout",
     "output_type": "stream",
     "text": [
      "Train on 55000 samples, validate on 5000 samples\n",
      "Epoch 1/30\n",
      "55000/55000 [==============================] - 4s 71us/sample - loss: 0.6165 - accuracy: 0.8399 - val_loss: 0.3135 - val_accuracy: 0.9140\n",
      "Epoch 2/30\n",
      "55000/55000 [==============================] - 3s 60us/sample - loss: 0.2885 - accuracy: 0.9174 - val_loss: 0.2405 - val_accuracy: 0.9310\n",
      "Epoch 3/30\n",
      "55000/55000 [==============================] - 4s 65us/sample - loss: 0.2368 - accuracy: 0.9324 - val_loss: 0.2043 - val_accuracy: 0.9402\n",
      "Epoch 4/30\n",
      "55000/55000 [==============================] - 3s 62us/sample - loss: 0.2031 - accuracy: 0.9418 - val_loss: 0.1798 - val_accuracy: 0.9500\n",
      "Epoch 5/30\n",
      "55000/55000 [==============================] - 4s 79us/sample - loss: 0.1780 - accuracy: 0.9494 - val_loss: 0.1576 - val_accuracy: 0.9564\n",
      "Epoch 6/30\n",
      "55000/55000 [==============================] - 4s 80us/sample - loss: 0.1571 - accuracy: 0.9548 - val_loss: 0.1438 - val_accuracy: 0.9598\n",
      "Epoch 7/30\n",
      "55000/55000 [==============================] - 3s 63us/sample - loss: 0.1407 - accuracy: 0.9596 - val_loss: 0.1307 - val_accuracy: 0.9636\n",
      "Epoch 8/30\n",
      "55000/55000 [==============================] - 3s 59us/sample - loss: 0.1270 - accuracy: 0.9637 - val_loss: 0.1212 - val_accuracy: 0.9666\n",
      "Epoch 9/30\n",
      "55000/55000 [==============================] - 4s 64us/sample - loss: 0.1151 - accuracy: 0.9675 - val_loss: 0.1159 - val_accuracy: 0.9682\n",
      "Epoch 10/30\n",
      "55000/55000 [==============================] - 5s 92us/sample - loss: 0.1053 - accuracy: 0.9705 - val_loss: 0.1083 - val_accuracy: 0.9718\n",
      "Epoch 11/30\n",
      "55000/55000 [==============================] - 3s 59us/sample - loss: 0.0972 - accuracy: 0.9726 - val_loss: 0.1028 - val_accuracy: 0.9704\n",
      "Epoch 12/30\n",
      "55000/55000 [==============================] - 3s 63us/sample - loss: 0.0896 - accuracy: 0.9746 - val_loss: 0.0956 - val_accuracy: 0.9720\n",
      "Epoch 13/30\n",
      "55000/55000 [==============================] - 3s 58us/sample - loss: 0.0830 - accuracy: 0.9769 - val_loss: 0.0917 - val_accuracy: 0.9744\n",
      "Epoch 14/30\n",
      "55000/55000 [==============================] - 3s 63us/sample - loss: 0.0770 - accuracy: 0.9788 - val_loss: 0.0892 - val_accuracy: 0.9746\n",
      "Epoch 15/30\n",
      "55000/55000 [==============================] - 4s 80us/sample - loss: 0.0719 - accuracy: 0.9804 - val_loss: 0.0858 - val_accuracy: 0.9752\n",
      "Epoch 16/30\n",
      "55000/55000 [==============================] - 4s 76us/sample - loss: 0.0669 - accuracy: 0.9814 - val_loss: 0.0831 - val_accuracy: 0.9768\n",
      "Epoch 17/30\n",
      "55000/55000 [==============================] - 4s 70us/sample - loss: 0.0628 - accuracy: 0.9824 - val_loss: 0.0822 - val_accuracy: 0.9774\n",
      "Epoch 18/30\n",
      "55000/55000 [==============================] - 4s 68us/sample - loss: 0.0589 - accuracy: 0.9838 - val_loss: 0.0798 - val_accuracy: 0.9772\n",
      "Epoch 19/30\n",
      "55000/55000 [==============================] - 3s 61us/sample - loss: 0.0551 - accuracy: 0.9848 - val_loss: 0.0803 - val_accuracy: 0.9770\n",
      "Epoch 20/30\n",
      "55000/55000 [==============================] - 5s 100us/sample - loss: 0.0519 - accuracy: 0.9860 - val_loss: 0.0752 - val_accuracy: 0.9792\n",
      "Epoch 21/30\n",
      "55000/55000 [==============================] - 5s 88us/sample - loss: 0.0488 - accuracy: 0.9872 - val_loss: 0.0747 - val_accuracy: 0.9794\n",
      "Epoch 22/30\n",
      "55000/55000 [==============================] - 4s 78us/sample - loss: 0.0456 - accuracy: 0.9877 - val_loss: 0.0751 - val_accuracy: 0.9786\n",
      "Epoch 23/30\n",
      "55000/55000 [==============================] - 3s 57us/sample - loss: 0.0432 - accuracy: 0.9884 - val_loss: 0.0729 - val_accuracy: 0.9798\n",
      "Epoch 24/30\n",
      "55000/55000 [==============================] - 4s 74us/sample - loss: 0.0405 - accuracy: 0.9898 - val_loss: 0.0712 - val_accuracy: 0.9794\n",
      "Epoch 25/30\n",
      "55000/55000 [==============================] - 5s 83us/sample - loss: 0.0382 - accuracy: 0.9904 - val_loss: 0.0688 - val_accuracy: 0.9810\n",
      "Epoch 26/30\n",
      "55000/55000 [==============================] - 5s 97us/sample - loss: 0.0362 - accuracy: 0.9910 - val_loss: 0.0688 - val_accuracy: 0.9812\n",
      "Epoch 27/30\n",
      "55000/55000 [==============================] - 5s 89us/sample - loss: 0.0341 - accuracy: 0.9914 - val_loss: 0.0686 - val_accuracy: 0.9796\n",
      "Epoch 28/30\n",
      "55000/55000 [==============================] - 5s 89us/sample - loss: 0.0320 - accuracy: 0.9925 - val_loss: 0.0700 - val_accuracy: 0.9802\n",
      "Epoch 29/30\n",
      "55000/55000 [==============================] - 4s 66us/sample - loss: 0.0303 - accuracy: 0.9930 - val_loss: 0.0691 - val_accuracy: 0.9800\n",
      "Epoch 30/30\n",
      "55000/55000 [==============================] - 3s 59us/sample - loss: 0.0287 - accuracy: 0.9935 - val_loss: 0.0686 - val_accuracy: 0.9794\n"
     ]
    }
   ],
   "source": [
    "history = model.fit(x_train, y_train, epochs=30, validation_data=(x_valid, y_valid), callbacks=[tensorboard_cb])"
   ]
  },
  {
   "cell_type": "code",
   "execution_count": 12,
   "metadata": {},
   "outputs": [],
   "source": [
    "test_logdir = get_run_logdir()\n",
    "writer = tf.summary.create_file_writer(test_logdir)\n",
    "\n",
    "with writer.as_default():\n",
    "    for step in range(1, 1000 + 1):\n",
    "        tf.summary.scalar(\"my_scalar\", np.sin(step / 10), step=step)\n",
    "        data = (np.random.randn(100) + 2) * step / 100 # some random data\n",
    "        tf.summary.histogram(\"my_hist\", data, buckets=50, step=step)\n",
    "        images = np.random.rand(2, 32, 32, 3) # random 32×32 RGB images\n",
    "        tf.summary.image(\"my_images\", images * step / 1000, step=step)\n",
    "        texts = [\"The step is \" + str(step), \"Its square is \" + str(step**2)]\n",
    "        tf.summary.text(\"my_text\", texts, step=step)\n",
    "        sine_wave = tf.math.sin(tf.range(12000) / 48000 * 2 * np.pi * step)\n",
    "        audio = tf.reshape(tf.cast(sine_wave, tf.float32), [1, -1, 1])\n",
    "        tf.summary.audio(\"my_audio\", audio, sample_rate=48000, step=step)"
   ]
  }
 ],
 "metadata": {
  "kernelspec": {
   "display_name": "Python 3",
   "language": "python",
   "name": "python3"
  },
  "language_info": {
   "codemirror_mode": {
    "name": "ipython",
    "version": 3
   },
   "file_extension": ".py",
   "mimetype": "text/x-python",
   "name": "python",
   "nbconvert_exporter": "python",
   "pygments_lexer": "ipython3",
   "version": "3.7.5"
  }
 },
 "nbformat": 4,
 "nbformat_minor": 4
}
